{
  "nbformat": 4,
  "nbformat_minor": 0,
  "metadata": {
    "kernelspec": {
      "display_name": "Python 3",
      "language": "python",
      "name": "python3"
    },
    "language_info": {
      "codemirror_mode": {
        "name": "ipython",
        "version": 3
      },
      "file_extension": ".py",
      "mimetype": "text/x-python",
      "name": "python",
      "nbconvert_exporter": "python",
      "pygments_lexer": "ipython3",
      "version": "3.8.3"
    },
    "colab": {
      "name": "helium_JAX.ipynb",
      "provenance": [],
      "collapsed_sections": [
        "ry7RIBV1HAMm",
        "wdwtL4kuerSF"
      ],
      "include_colab_link": true
    },
    "accelerator": "GPU"
  },
  "cells": [
    {
      "cell_type": "markdown",
      "metadata": {
        "id": "view-in-github",
        "colab_type": "text"
      },
      "source": [
        "<a href=\"https://colab.research.google.com/github/gcassella/NN-VMC/blob/main/helium_JAX.ipynb\" target=\"_parent\"><img src=\"https://colab.research.google.com/assets/colab-badge.svg\" alt=\"Open In Colab\"/></a>"
      ]
    },
    {
      "cell_type": "code",
      "metadata": {
        "id": "Fm9-6jxUCxO8"
      },
      "source": [
        "import jax.numpy as np\n",
        "import jax\n",
        "from jax import random, grad, jacfwd, jacrev, vmap, jit, pmap\n",
        "from jax.ops import index_add, index_update\n",
        "from functools import partial\n",
        "\n",
        "key = random.PRNGKey(0)\n",
        "key, subkey = random.split(key)"
      ],
      "execution_count": 1,
      "outputs": []
    },
    {
      "cell_type": "markdown",
      "metadata": {
        "id": "Hz1WbP_xCxPJ"
      },
      "source": [
        "# Stochastic reconfiguration w/ Hylleraas wavefunction"
      ]
    },
    {
      "cell_type": "code",
      "metadata": {
        "id": "BMcJkpscE8hT"
      },
      "source": [
        "class Wavefunction():\n",
        "  def __init__(self, f, p0):\n",
        "    self.f = f\n",
        "    self.p = p0\n",
        "\n",
        "    self.hess = jacfwd(jacrev(lambda x: self.f(x, self.p), 0), 0)\n",
        "    self.p_grad = grad(self.f, 1)\n",
        "    self.p_gradlog = grad(lambda x, p: np.log(self.f(x, p)), 1)\n",
        "\n",
        "    # Cache evaluations to speed up?\n",
        "    self.p_gradlog_eval = jit(lambda x: self.p_gradlog(x, self.p))\n",
        "    self.p_grad_eval = jit(lambda x: self.p_grad(x, self.p))\n",
        "    self.lapl_eval = jit(lambda x: np.trace(self.hess(x).reshape(x.shape[0]*x.shape[1], x.shape[0]*x.shape[1])))\n",
        "    self.eval = jit(lambda x: self.f(x, self.p))\n",
        "    self.pdf_eval = jit(lambda x: np.power(np.abs(self.eval(x)), 2))\n"
      ],
      "execution_count": 2,
      "outputs": []
    },
    {
      "cell_type": "code",
      "metadata": {
        "id": "P7vBXf1kCxPV"
      },
      "source": [
        "@jit\n",
        "def hirschfelder_f(x, p):\n",
        "    r = np.linalg.norm(x, axis=1)\n",
        "    r1 = r[0]\n",
        "    r2 = r[1]\n",
        "\n",
        "    s = r1 + r2\n",
        "    t = r1 - r2\n",
        "    u = np.linalg.norm(np.subtract(x[1], x[0]))\n",
        "\n",
        "    return np.exp(-2*s)*(1 + 0.5*u*np.exp(-p[0]*u))*(1 + p[1]*s*u + p[2]*np.power(t, 2) + p[3]*np.power(u, 2))\n",
        "\n",
        "hirschfelder = Wavefunction(hirschfelder_f, np.array([1.0, 0.5, 0.5, -0.1]))\n",
        "\n",
        "@jit\n",
        "def simple_f(x, p):\n",
        "    r = np.linalg.norm(x, axis=1)\n",
        "    r1 = r[0]\n",
        "    r2 = r[1]\n",
        "\n",
        "    return np.exp(-p[0]*(r1 + r2))\n",
        "\n",
        "simple = Wavefunction(simple_f, np.array([2.0]))"
      ],
      "execution_count": 3,
      "outputs": []
    },
    {
      "cell_type": "code",
      "metadata": {
        "id": "Sf66BnnICxPg"
      },
      "source": [
        "@partial(jit, static_argnums=(1,))\n",
        "def config_step(key, wf, config, config_prob, config_idx, step_size):\n",
        "    key, subkey = random.split(key)\n",
        "    move_proposal = random.normal(key, shape=(config.shape[1],))*step_size\n",
        "    proposal = index_add(config, config_idx%config.shape[0], move_proposal)\n",
        "    proposal_prob = wf.pdf_eval(proposal)\n",
        "\n",
        "    uniform = random.uniform(subkey)\n",
        "    accept = uniform < (proposal_prob / config_prob)\n",
        "\n",
        "    new_config = np.where(accept, proposal, config)\n",
        "    config_prob = np.where(accept, proposal_prob, config_prob)\n",
        "    return new_config, config_prob, config_idx+1\n",
        "\n",
        "@partial(jit, static_argnums=(1, 2, 3, 4))\n",
        "def get_configs(key, wf, n_iter, n_equi, step_size, initial_config):\n",
        "    \"\"\"\n",
        "    Carries out Metropolis-Hastings sampling according to the distribution |`wf`|**2.0.\n",
        "    \n",
        "    Performs `n_equi` equilibriation steps and `n_iter` sampling steps.\n",
        "    \"\"\"\n",
        "    \n",
        "    def mh_update(i, state):\n",
        "      key, config, prob, idx = state\n",
        "      _, key = random.split(key)\n",
        "      new_config, new_prob, new_idx = config_step(\n",
        "          key,\n",
        "          wf,\n",
        "          config,\n",
        "          prob,\n",
        "          idx,\n",
        "          step_size\n",
        "      )\n",
        "      return (key, new_config, new_prob, new_idx)\n",
        "\n",
        "    def mh_update_and_store(i, state):\n",
        "      key, config, prob, idx, configs = state\n",
        "      _, key = random.split(key)\n",
        "      new_config, new_prob, new_idx = config_step(\n",
        "          key,\n",
        "          wf,\n",
        "          config,\n",
        "          prob,\n",
        "          idx,\n",
        "          step_size\n",
        "      )\n",
        "      new_configs = index_update(configs, idx, new_config)\n",
        "      return (key, new_config, new_prob, new_idx, new_configs)\n",
        "\n",
        "    prob = wf.pdf_eval(initial_config)\n",
        "    key, config, prob, idx = jax.lax.fori_loop(0, n_equi, mh_update, (key, initial_config, prob, 0))\n",
        "    init_configs = np.zeros((n_iter, *initial_config.shape))\n",
        "    key, config, prob, idx, configs = jax.lax.fori_loop(0, n_iter, mh_update_and_store, (key, config, prob, 0, init_configs))\n",
        "\n",
        "    return configs"
      ],
      "execution_count": 4,
      "outputs": []
    },
    {
      "cell_type": "code",
      "metadata": {
        "id": "uaWNad0_CxPr"
      },
      "source": [
        "@partial(jit, static_argnums=(1,))\n",
        "def itime_hamiltonian(config, wf, tau=0.1):\n",
        "    n_electron = config.shape[0]\n",
        "    curr_wf = wf.eval(config)\n",
        "    acc = 0\n",
        "    # Calculate kinetic energy\n",
        "    acc += -0.5*(1/curr_wf)*wf.lapl_eval(config)\n",
        "    # Calculate electron-electron energy\n",
        "    for i in range(n_electron):\n",
        "        for j in range(n_electron):\n",
        "            if i < j:\n",
        "                acc += 1 / np.linalg.norm(np.subtract(config[i], config[j]))\n",
        "\n",
        "    # Calculate electron-nucleus energy, assume z=ne FOR NOW\n",
        "    for i in range(n_electron):\n",
        "        acc -= n_electron / np.linalg.norm(config[i])\n",
        "    # Forget about nucleus - nucleus energy FOR NOW\n",
        "\n",
        "    return 1-tau*acc\n",
        "\n",
        "@partial(jit, static_argnums=(1,))\n",
        "def sr_op(config, wf):\n",
        "    gradlog = np.concatenate((np.array([1]), np.array(wf.p_gradlog_eval(config))))\n",
        "    ih = itime_hamiltonian(config, wf)\n",
        "    \n",
        "    return np.multiply(gradlog, ih)\n",
        "\n",
        "@partial(jit, static_argnums=(1,))\n",
        "def overlap_matrix(config, wf):\n",
        "    \"\"\"\n",
        "    Find the overlap matrix on the space of the parametric derivatives of `wf`\n",
        "    \"\"\"\n",
        "    \n",
        "    gradlog = np.concatenate((np.array([1]), np.array(wf.p_gradlog_eval(config))))\n",
        "    overlap_ij = vmap(lambda idx: gradlog[idx[0]]*gradlog[idx[1]])\n",
        "    \n",
        "    grid_pairs = np.array([(i,j) for i in range(gradlog.shape[0]) for j in range(gradlog.shape[0])])\n",
        "    \n",
        "    return overlap_ij(grid_pairs).reshape(gradlog.shape[0], gradlog.shape[0])\n",
        "\n",
        "@partial(jit, static_argnums=(1,))\n",
        "def local_energy(config, wf):\n",
        "    \"\"\"\n",
        "    Local energy operator. Uses JAX autograd to obtain laplacian for KE.\n",
        "    \"\"\"\n",
        "\n",
        "    n_electron = config.shape[0]\n",
        "    acc = 0\n",
        "    # Calculate kinetic energy\n",
        "    acc += -0.5*(1/wf.eval(config))*wf.lapl_eval(config)\n",
        "    # Calculate electron-electron energy\n",
        "    for i in range(n_electron):\n",
        "        for j in range(n_electron):\n",
        "            if i < j:\n",
        "                acc += 1 / np.linalg.norm(np.subtract(config[i], config[j]))\n",
        "\n",
        "    # Calculate electron-nucleus energy, assume z=ne FOR NOW\n",
        "    for i in range(n_electron):\n",
        "        acc -= n_electron / np.linalg.norm(config[i])\n",
        "\n",
        "    return acc"
      ],
      "execution_count": 79,
      "outputs": []
    },
    {
      "cell_type": "code",
      "metadata": {
        "id": "RGuqs5ZbCxPz"
      },
      "source": [
        "@partial(jit, static_argnums=(1,2,))\n",
        "def monte_carlo(configs, op, wf):\n",
        "    \"\"\"\n",
        "    Performs a Monte Carlo integration using the `configs` walker positions\n",
        "    of the expectation value of `op` for the wavefunction `wf`.\n",
        "    \n",
        "    Returns the expectation value, variance and a list of the sampled values {O_i}\n",
        "    \"\"\"\n",
        "\n",
        "    samp_rate = 100\n",
        "    walker_values = vmap(lambda config: op(config, wf))(configs)\n",
        "    op_output_shape = walker_values[0].shape\n",
        "    num_blocks = (walker_values.shape[0]//samp_rate)\n",
        "    blocks = walker_values[:samp_rate*(num_blocks)].reshape((num_blocks, samp_rate, *op_output_shape))\n",
        "    k = blocks.shape[0]\n",
        "    block_means = np.mean(blocks, axis=1)\n",
        "    op_expec = np.mean(block_means, axis=0)\n",
        "    op_var = 1/(k*(k-1))*np.sum(np.power(block_means - op_expec, 2), axis=0)\n",
        "    return op_expec, op_var"
      ],
      "execution_count": 6,
      "outputs": []
    },
    {
      "cell_type": "code",
      "metadata": {
        "id": "tvTT8u-Zj_UO"
      },
      "source": [
        "run_mcmc = vmap(get_configs, in_axes=(0, None, None, None, None, 0), out_axes=0)\n",
        "run_int = vmap(monte_carlo, in_axes=(0, None, None), out_axes=0)\n",
        "\n",
        "def reduce_mc_outs(outs):\n",
        "  mean = np.mean(outs[0], axis=0)\n",
        "  variance = np.mean(outs[1] + np.power(outs[0] - mean, 2), axis=0)\n",
        "  return mean, variance"
      ],
      "execution_count": 7,
      "outputs": []
    },
    {
      "cell_type": "code",
      "metadata": {
        "id": "4dxuEJZH6rQM"
      },
      "source": [
        "n_equi = 1000\n",
        "n_iter = 10000\n",
        "n_chains = 500\n",
        "xis = random.uniform(key, (n_chains, 2, 3))\n",
        "keys = random.split(key, n_chains)\n",
        "configs = run_mcmc(keys, simple, n_iter, n_equi, 0.5, xis)\n",
        "E_E, E_V = reduce_mc_outs(run_int(configs, local_energy, simple))\n",
        "overlap_E, overlap_V = reduce_mc_outs(run_int(configs, overlap_matrix, simple))\n",
        "#sr_E, sr_V = reduce_mc_outs(run_int(configs, sr_op, simple))"
      ],
      "execution_count": null,
      "outputs": []
    },
    {
      "cell_type": "code",
      "metadata": {
        "id": "5fRgxAz1DYKN",
        "outputId": "70f3fe1c-118e-4f13-a9e6-04e0354ff169",
        "colab": {
          "base_uri": "https://localhost:8080/",
          "height": 33
        }
      },
      "source": [
        "E_E"
      ],
      "execution_count": null,
      "outputs": [
        {
          "output_type": "execute_result",
          "data": {
            "text/plain": [
              "DeviceArray(-2.7496672, dtype=float32)"
            ]
          },
          "metadata": {
            "tags": []
          },
          "execution_count": 9
        }
      ]
    },
    {
      "cell_type": "markdown",
      "metadata": {
        "id": "ry7RIBV1HAMm"
      },
      "source": [
        "## Simple WF"
      ]
    },
    {
      "cell_type": "code",
      "metadata": {
        "id": "6V9vc3hiC-Qy",
        "outputId": "78e7d689-8df0-48e3-95c6-288f1f218cc7",
        "colab": {
          "base_uri": "https://localhost:8080/",
          "height": 697
        }
      },
      "source": [
        "key = random.PRNGKey(0)\n",
        "n_equi = 10000\n",
        "n_iter = 100000\n",
        "n_chains = 500\n",
        "xis = random.uniform(key, (n_chains, 2, 3))\n",
        "keys = random.split(key, n_chains)\n",
        "simple = Wavefunction(simple_f, np.array([2.0]))\n",
        "vals = [np.array(2.0)]\n",
        "\n",
        "for i in range(40):\n",
        "  configs = run_mcmc(keys, simple, n_iter, n_equi, 0.5, xis)\n",
        "  E_E, E_V = reduce_mc_outs(run_int(configs, local_energy, simple))\n",
        "  overlap_E, overlap_V = reduce_mc_outs(run_int(configs, overlap_matrix, simple))\n",
        "  sr_E, sr_V = reduce_mc_outs(run_int(configs, sr_op, simple))\n",
        "\n",
        "  dps = np.linalg.solve(overlap_E, sr_E)\n",
        "  p0 = np.add(simple.p, dps[1:] / dps[0])\n",
        "  # VERY IMPORTANT NOTE: JAX will not re-jit the operators if Wavefunction.p\n",
        "  # is updated internally by, e.g., a getter or setter. I don't know how to solve\n",
        "  # this problem currently aside from simply reinstantiating Wavefunction each\n",
        "  # time Wavefunction.p needs to be changed\n",
        "  #\n",
        "  # Perhaps this isn't such an issue if one sticks with a purely functional style\n",
        "  # and uses classes like immutable structs?\n",
        "  simple = Wavefunction(simple_f, p0)\n",
        "  vals.append(p0)\n",
        "  print(p0)"
      ],
      "execution_count": null,
      "outputs": [
        {
          "output_type": "stream",
          "text": [
            "[1.9276963]\n",
            "[1.8775854]\n",
            "[1.840691]\n",
            "[1.8123969]\n",
            "[1.7903057]\n",
            "[1.7726845]\n",
            "[1.7584919]\n",
            "[1.7468067]\n",
            "[1.7373891]\n",
            "[1.7295324]\n",
            "[1.7229042]\n",
            "[1.7173197]\n",
            "[1.712626]\n",
            "[1.7087704]\n",
            "[1.7055061]\n",
            "[1.702796]\n",
            "[1.700402]\n",
            "[1.6984478]\n",
            "[1.696852]\n",
            "[1.6954029]\n",
            "[1.6942947]\n",
            "[1.6933272]\n",
            "[1.6924536]\n",
            "[1.6917834]\n",
            "[1.6911279]\n",
            "[1.690638]\n",
            "[1.6901832]\n",
            "[1.6898696]\n",
            "[1.6895639]\n",
            "[1.689298]\n",
            "[1.6891017]\n",
            "[1.6889309]\n",
            "[1.6887196]\n",
            "[1.6885333]\n",
            "[1.6884184]\n",
            "[1.6882296]\n",
            "[1.6881112]\n",
            "[1.6879984]\n",
            "[1.6878452]\n",
            "[1.6877065]\n"
          ],
          "name": "stdout"
        }
      ]
    },
    {
      "cell_type": "code",
      "metadata": {
        "id": "sTMPooDtDb12",
        "outputId": "b9f667c9-1d5c-4dd1-bfbf-b6c59bed393d",
        "colab": {
          "base_uri": "https://localhost:8080/",
          "height": 54
        }
      },
      "source": [
        "configs = run_mcmc(keys, simple, n_iter, n_equi, 0.5, xis)\n",
        "E_E, E_V = reduce_mc_outs(run_int(configs, local_energy, simple))\n",
        "print(\"Ground state energy {} pm {} after 20 iterations with parameter {}\".format(E_E, np.sqrt(E_V), p0))"
      ],
      "execution_count": null,
      "outputs": [
        {
          "output_type": "stream",
          "text": [
            "Ground state energy -2.8464293479919434 pm 0.0006964870844967663 after 20 iterations with parameter [1.6877065]\n"
          ],
          "name": "stdout"
        }
      ]
    },
    {
      "cell_type": "markdown",
      "metadata": {
        "id": "mj6TQsqMYhAv"
      },
      "source": [
        "For reference the true minimum of $\\langle E\\rangle \\simeq -2.85 \\text{a. u.}$ of the simple wf ansatz occurs at $\\alpha$=1.6875"
      ]
    },
    {
      "cell_type": "markdown",
      "metadata": {
        "id": "wdwtL4kuerSF"
      },
      "source": [
        "## Hirschfelder wavefunction"
      ]
    },
    {
      "cell_type": "code",
      "metadata": {
        "id": "3xhnt3LSetLC",
        "outputId": "bfeefb88-6f2c-4133-d103-c21e528bd91e",
        "colab": {
          "base_uri": "https://localhost:8080/",
          "height": 697
        }
      },
      "source": [
        "n_equi = 10000\n",
        "n_iter = 100000\n",
        "n_chains = 100\n",
        "xis = random.uniform(key, (n_chains, 2, 3))\n",
        "keys = random.split(key, n_chains)\n",
        "hirschfelder = Wavefunction(hirschfelder_f, np.array([1.0, 0.5, 0.5, -0.1]))\n",
        "vals = [p0]\n",
        "\n",
        "for i in range(40):\n",
        "  configs = run_mcmc(keys, hirschfelder, n_iter, n_equi, 0.5, xis)\n",
        "  E_E, E_V = reduce_mc_outs(run_int(configs, local_energy, hirschfelder))\n",
        "  overlap_E, overlap_V = reduce_mc_outs(run_int(configs, overlap_matrix, hirschfelder))\n",
        "  sr_E, sr_V = reduce_mc_outs(run_int(configs, sr_op, hirschfelder))\n",
        "\n",
        "  dps = np.linalg.solve(overlap_E, sr_E)\n",
        "  p0 = np.add(hirschfelder.p, dps[1:] / dps[0])\n",
        "  hirschfelder = Wavefunction(hirschfelder_f, p0)\n",
        "  vals.append(p0)\n",
        "  print(p0)"
      ],
      "execution_count": null,
      "outputs": [
        {
          "output_type": "stream",
          "text": [
            "[ 1.4236624   0.5324303   0.44780415 -0.1185777 ]\n",
            "[ 1.8274268   0.52555925  0.38857707 -0.14034285]\n",
            "[ 2.1532216   0.5014799   0.34327382 -0.14871532]\n",
            "[ 2.1948583   0.47658455  0.31286922 -0.14467369]\n",
            "[ 2.0115626   0.4537761   0.29153362 -0.13413884]\n",
            "[ 1.8770361   0.43206456  0.27365276 -0.12360602]\n",
            "[ 1.7592784   0.41211852  0.2586345  -0.11351466]\n",
            "[ 1.6649686   0.39407298  0.24570781 -0.10441782]\n",
            "[ 1.577496    0.37777448  0.23474768 -0.09616143]\n",
            "[ 1.5076677   0.3633409   0.22492754 -0.0890992 ]\n",
            "[ 1.4467105   0.35067847  0.21633679 -0.08313622]\n",
            "[ 1.3945475   0.33940798  0.2087992  -0.0780477 ]\n",
            "[ 1.3490429   0.32962883  0.20208855 -0.07381274]\n",
            "[ 1.3063763   0.3208327   0.19627199 -0.07010238]\n",
            "[ 1.2701937   0.31305918  0.1910933  -0.06695889]\n",
            "[ 1.2391235   0.3063077   0.18647681 -0.06442851]\n",
            "[ 1.2104979   0.30031046  0.18252607 -0.06231608]\n",
            "[ 1.187672    0.29506224  0.17885162 -0.06052488]\n",
            "[ 1.1666455   0.29016247  0.17578799 -0.05881443]\n",
            "[ 1.1456738   0.28589332  0.17293528 -0.0574354 ]\n",
            "[ 1.129263    0.28224057  0.17024308 -0.05635386]\n",
            "[ 1.1131905   0.27873302  0.16814847 -0.05524873]\n",
            "[ 1.0984658   0.27568334  0.1661749  -0.05435653]\n",
            "[ 1.0862108   0.2730122   0.16440171 -0.05358232]\n",
            "[ 1.0750093   0.27056193  0.16283806 -0.05288792]\n",
            "[ 1.0650601   0.26846287  0.16138089 -0.05233345]\n",
            "[ 1.0556324   0.26661938  0.16012001 -0.05189104]\n",
            "[ 1.049433    0.2649742   0.1589145  -0.05145911]\n",
            "[ 1.042331    0.26350895  0.15793398 -0.05111194]\n",
            "[ 1.0345564   0.262147    0.15706775 -0.05081553]\n",
            "[ 1.0291275   0.26089907  0.15629807 -0.05046355]\n",
            "[ 1.0244983   0.2598552   0.15557402 -0.0502286 ]\n",
            "[ 1.019854    0.2589599   0.15485553 -0.05004753]\n",
            "[ 1.0158389   0.25807545  0.1542707  -0.0498124 ]\n",
            "[ 1.0135514   0.25729942  0.1538427  -0.04958712]\n",
            "[ 1.010198    0.2565669   0.1534436  -0.04938283]\n",
            "[ 1.0065552   0.2558841   0.1530831  -0.04922125]\n",
            "[ 1.0040314   0.2554026   0.15273264 -0.04915685]\n",
            "[ 1.0028024   0.25498846  0.15240397 -0.04907146]\n",
            "[ 0.9998273   0.2546163   0.1520364  -0.04904639]\n"
          ],
          "name": "stdout"
        }
      ]
    },
    {
      "cell_type": "code",
      "metadata": {
        "id": "gr6FvtZFe7pu",
        "outputId": "cc805b0b-30b7-4e89-db4e-d3452a02ce91",
        "colab": {
          "base_uri": "https://localhost:8080/",
          "height": 54
        }
      },
      "source": [
        "configs = run_mcmc(keys, hirschfelder, n_iter, n_equi, 0.5, xis)\n",
        "E_E, E_V = reduce_mc_outs(run_int(configs, local_energy, hirschfelder))\n",
        "print(\"Ground state energy {} pm {} after 40 iterations with parameter {}\".format(E_E, np.sqrt(E_V), p0))"
      ],
      "execution_count": null,
      "outputs": [
        {
          "output_type": "stream",
          "text": [
            "Ground state energy -2.901717185974121 pm 0.00027340053929947317 after 40 iterations with parameter [ 0.9998273   0.2546163   0.1520364  -0.04904639]\n"
          ],
          "name": "stdout"
        }
      ]
    },
    {
      "cell_type": "code",
      "metadata": {
        "id": "XKAYSNCrjTfO",
        "outputId": "98be4685-e9ec-4f1d-f1e5-e0bc83ef90b8",
        "colab": {
          "base_uri": "https://localhost:8080/",
          "height": 34
        }
      },
      "source": [
        "print(\"This {}mHa from the true ground state energy\".format(\n",
        "    np.abs(-2.903 - E_E)*1e3\n",
        "))"
      ],
      "execution_count": null,
      "outputs": [
        {
          "output_type": "stream",
          "text": [
            "This 1.2829303741455078mHa from the true ground state energy\n"
          ],
          "name": "stdout"
        }
      ]
    },
    {
      "cell_type": "markdown",
      "metadata": {
        "id": "ampdYuMD_vB1"
      },
      "source": [
        "## Hirschfelder-type wavefunction with NNs"
      ]
    },
    {
      "cell_type": "markdown",
      "metadata": {
        "id": "AYIUOcbIAI6c"
      },
      "source": [
        "$$\\psi=e^{-2\\left(r_{1}+r_{2}\\right)}\\left(1+\\frac{1}{2} r_{12} e^{-\\alpha r_{12}}\\right) g\\left(r_{1}, r_{2}, r_{12}\\right)$$"
      ]
    },
    {
      "cell_type": "code",
      "metadata": {
        "id": "KZg7Ko5E_uPB"
      },
      "source": [
        "# A helper function to randomly initialize weights and biases\n",
        "# for a dense neural network layer\n",
        "def random_layer_params(m, n, key, scale=1):\n",
        "  w_key, b_key = random.split(key)\n",
        "  return [scale * random.normal(w_key, (n, m)), scale * random.normal(b_key, (n,))]\n",
        "\n",
        "# Initialize all layers for a fully-connected neural network with sizes \"sizes\"\n",
        "def init_network_params(sizes, key):\n",
        "  keys = random.split(key, len(sizes))\n",
        "  return [random_layer_params(m, n, k) for m, n, k in zip(sizes[:-1], sizes[1:], keys)]\n",
        "\n",
        "@jit\n",
        "def tanh(x):\n",
        "    return np.tanh(x)\n",
        "\n",
        "def predict(x, params):\n",
        "  # per-example predictions\n",
        "  r = np.linalg.norm(x, axis=1)\n",
        "  r1 = r[0]\n",
        "  r2 = r[1]\n",
        "  u = np.linalg.norm(np.subtract(x[1], x[0]))\n",
        "\n",
        "  activations = np.array([r1, r2, u])\n",
        "  for w, b in params[:-1]:\n",
        "    outputs = np.dot(w, activations) + b\n",
        "    activations = tanh(outputs)\n",
        "  \n",
        "  final_w, final_b = params[-1]\n",
        "  outputs = np.dot(final_w, activations) + final_b\n",
        "  return outputs[0]\n",
        " \n",
        "layer_sizes = [3, 12, 12, 12, 1]\n",
        "key, subkey = random.split(key)\n",
        "params = init_network_params(layer_sizes, key)"
      ],
      "execution_count": 42,
      "outputs": []
    },
    {
      "cell_type": "markdown",
      "metadata": {
        "id": "PpwNLUTxL8gH"
      },
      "source": [
        "Pretrain params to match $g(r1,r2,r12) = \\left(1+0.2119 s u+0.1406 t^{2}-0.003 u^{2}\\right)$"
      ]
    },
    {
      "cell_type": "code",
      "metadata": {
        "id": "np8F70iuMFSl",
        "outputId": "2e9b6dca-d9c4-429a-dd0e-a5f9a2a1337a",
        "colab": {
          "base_uri": "https://localhost:8080/",
          "height": 33
        }
      },
      "source": [
        "def g(x):\n",
        "  r = np.linalg.norm(x, axis=1)\n",
        "  r1 = r[0]\n",
        "  r2 = r[1]\n",
        "\n",
        "  s = r1 + r2\n",
        "  t = r1 - r2\n",
        "  u = np.linalg.norm(np.subtract(x[1], x[0]))\n",
        "  return (1 + 0.2119*s*u + 0.1406*t**2.0 - 0.003*u**2.0)\n",
        "\n",
        "g(np.array([[2.0, 1.0, 1.0], [1.0,1.0,2.0]]))"
      ],
      "execution_count": 47,
      "outputs": [
        {
          "output_type": "execute_result",
          "data": {
            "text/plain": [
              "DeviceArray(2.4620862, dtype=float32)"
            ]
          },
          "metadata": {
            "tags": []
          },
          "execution_count": 47
        }
      ]
    },
    {
      "cell_type": "code",
      "metadata": {
        "id": "1GKewXcjR5qI"
      },
      "source": [
        "from jax.experimental import optimizers"
      ],
      "execution_count": 48,
      "outputs": []
    },
    {
      "cell_type": "code",
      "metadata": {
        "id": "gkuaUei8R9T0",
        "outputId": "8041912c-d5b4-4cf9-c0de-d9caa271fbf3",
        "colab": {
          "base_uri": "https://localhost:8080/",
          "height": 1000
        }
      },
      "source": [
        "batch_size = 1000\n",
        "opt_init, opt_update, get_params = optimizers.adam(step_size=1e-2)\n",
        "\n",
        "def loss(params, inputs, targets):\n",
        "    # Computes average loss for the batch\n",
        "    predictions = vmap(predict, in_axes=(0, None))(inputs, params)\n",
        "    return np.mean((targets - predictions)**2.0)\n",
        "\n",
        "opt_state = opt_init(params)\n",
        "\n",
        "@jit\n",
        "def step(i, opt_state, x1, y1):\n",
        "    p = get_params(opt_state)\n",
        "    v, g = jax.value_and_grad(loss)(p, x1, y1)\n",
        "    return v, opt_update(i, g, opt_state)\n",
        "\n",
        "for i in range(300):\n",
        "  key, subkey = jax.random.split(key)\n",
        "  xis = random.uniform(key, (batch_size, 2, 3))\n",
        "  yis = vmap(g)(xis)\n",
        "             \n",
        "  v, opt_state = step(i, opt_state, xis, yis)\n",
        "  print(v)\n",
        "\n",
        "params = get_params(opt_state)"
      ],
      "execution_count": 55,
      "outputs": [
        {
          "output_type": "stream",
          "text": [
            "0.0024292343\n",
            "0.08043384\n",
            "0.008995675\n",
            "0.024901738\n",
            "0.03788864\n",
            "0.014121145\n",
            "0.0024776012\n",
            "0.007747767\n",
            "0.016415464\n",
            "0.018785994\n",
            "0.013097473\n",
            "0.007159384\n",
            "0.005715222\n",
            "0.01032926\n",
            "0.011719569\n",
            "0.010695095\n",
            "0.007366012\n",
            "0.0052737296\n",
            "0.0049065277\n",
            "0.0068206415\n",
            "0.008040308\n",
            "0.0074262396\n",
            "0.005662967\n",
            "0.0045540226\n",
            "0.003674916\n",
            "0.004685712\n",
            "0.0051165493\n",
            "0.004171921\n",
            "0.0031175748\n",
            "0.002333551\n",
            "0.002199259\n",
            "0.0026015013\n",
            "0.0030616568\n",
            "0.0025462098\n",
            "0.0022841957\n",
            "0.0026639744\n",
            "0.0027234321\n",
            "0.0022498267\n",
            "0.0018829526\n",
            "0.0017357288\n",
            "0.0019379203\n",
            "0.0020394903\n",
            "0.0018811806\n",
            "0.0018294059\n",
            "0.0019113022\n",
            "0.0019462216\n",
            "0.0018850048\n",
            "0.0017875544\n",
            "0.0017329212\n",
            "0.0018097619\n",
            "0.0015349925\n",
            "0.0012991007\n",
            "0.00145888\n",
            "0.0015215379\n",
            "0.0016748582\n",
            "0.0015228019\n",
            "0.0013304696\n",
            "0.0013640411\n",
            "0.0014445441\n",
            "0.0013876967\n",
            "0.0012190326\n",
            "0.0013531504\n",
            "0.001164669\n",
            "0.0013502026\n",
            "0.0013732311\n",
            "0.0011493461\n",
            "0.0012426615\n",
            "0.0013539651\n",
            "0.001152684\n",
            "0.0011134997\n",
            "0.0011936701\n",
            "0.0010649161\n",
            "0.0010473348\n",
            "0.0010966108\n",
            "0.0011437591\n",
            "0.0010539321\n",
            "0.0009866224\n",
            "0.0010453754\n",
            "0.0009729083\n",
            "0.0012298747\n",
            "0.0010403082\n",
            "0.0010688691\n",
            "0.0008744472\n",
            "0.0010901154\n",
            "0.001012156\n",
            "0.0009324483\n",
            "0.0009837791\n",
            "0.00094761996\n",
            "0.0009404208\n",
            "0.0008940969\n",
            "0.0009552826\n",
            "0.0009072857\n",
            "0.00079194846\n",
            "0.0009195293\n",
            "0.00090715353\n",
            "0.00088038854\n",
            "0.0008416956\n",
            "0.0008385642\n",
            "0.00082262536\n",
            "0.00097374455\n",
            "0.00078942545\n",
            "0.0007559685\n",
            "0.000784601\n",
            "0.00071577745\n",
            "0.00078057876\n",
            "0.00076668843\n",
            "0.00069792575\n",
            "0.0007385172\n",
            "0.0007090897\n",
            "0.0007175751\n",
            "0.00069780654\n",
            "0.0005965853\n",
            "0.00072689296\n",
            "0.0007351654\n",
            "0.0006510624\n",
            "0.0006112079\n",
            "0.0006299397\n",
            "0.0005710045\n",
            "0.00063153973\n",
            "0.0006056357\n",
            "0.0006257407\n",
            "0.00062037865\n",
            "0.0006150178\n",
            "0.000539225\n",
            "0.0005842553\n",
            "0.00056691933\n",
            "0.00057089987\n",
            "0.0005757803\n",
            "0.0005853577\n",
            "0.00054973544\n",
            "0.00053559686\n",
            "0.0005595306\n",
            "0.00054032996\n",
            "0.0005568956\n",
            "0.00043776253\n",
            "0.00056926196\n",
            "0.0005017575\n",
            "0.0006221868\n",
            "0.0005352548\n",
            "0.00050860585\n",
            "0.00049492024\n",
            "0.00048440436\n",
            "0.0005195684\n",
            "0.00048798247\n",
            "0.00050308934\n",
            "0.0003922037\n",
            "0.0004713727\n",
            "0.0004770028\n",
            "0.00046994968\n",
            "0.0004439973\n",
            "0.0004433755\n",
            "0.00040675537\n",
            "0.00043534426\n",
            "0.00042843443\n",
            "0.00041260556\n",
            "0.0004150376\n",
            "0.00044819358\n",
            "0.00041817225\n",
            "0.0004452988\n",
            "0.00040162596\n",
            "0.00042871453\n",
            "0.00033992238\n",
            "0.00040894403\n",
            "0.0003717428\n",
            "0.00037434956\n",
            "0.0004134034\n",
            "0.0003805358\n",
            "0.00038421393\n",
            "0.00039383242\n",
            "0.00036101238\n",
            "0.00039774107\n",
            "0.0004163274\n",
            "0.000366736\n",
            "0.0003735171\n",
            "0.00033409704\n",
            "0.000336035\n",
            "0.00036257476\n",
            "0.00037374537\n",
            "0.0003633445\n",
            "0.00034512306\n",
            "0.0003209947\n",
            "0.00032738651\n",
            "0.0003217684\n",
            "0.000306175\n",
            "0.00042722272\n",
            "0.000273093\n",
            "0.00033645978\n",
            "0.00036304066\n",
            "0.00037298977\n",
            "0.00030567404\n",
            "0.00029225106\n",
            "0.00030915294\n",
            "0.0002707479\n",
            "0.00032436464\n",
            "0.00027273476\n",
            "0.00029087218\n",
            "0.0002637481\n",
            "0.00029467267\n",
            "0.00035018555\n",
            "0.00027023038\n",
            "0.0003342143\n",
            "0.00027208574\n",
            "0.0002955736\n",
            "0.0002811445\n",
            "0.000270428\n",
            "0.0002881277\n",
            "0.00029247446\n",
            "0.0002626418\n",
            "0.0002847228\n",
            "0.00026336891\n",
            "0.000278494\n",
            "0.00026603238\n",
            "0.0002783622\n",
            "0.0002827711\n",
            "0.00022979853\n",
            "0.00028261633\n",
            "0.00022406537\n",
            "0.00021558651\n",
            "0.0002238971\n",
            "0.0002507291\n",
            "0.00023767653\n",
            "0.00022211573\n",
            "0.00027775415\n",
            "0.00022154789\n",
            "0.00021035709\n",
            "0.00020942905\n",
            "0.00021679365\n",
            "0.0002471437\n",
            "0.00024347226\n",
            "0.00022687725\n",
            "0.00022631766\n",
            "0.00023130287\n",
            "0.00023725966\n",
            "0.00020896799\n",
            "0.00021330637\n",
            "0.00021691818\n",
            "0.0001824686\n",
            "0.00021623135\n",
            "0.00023742505\n",
            "0.0001868649\n",
            "0.00019345395\n",
            "0.00018632028\n",
            "0.00017625248\n",
            "0.00023773177\n",
            "0.00023396497\n",
            "0.00020597508\n",
            "0.0002024215\n",
            "0.00024540827\n",
            "0.0001944128\n",
            "0.00037146764\n",
            "0.00021750905\n",
            "0.00030948617\n",
            "0.00035873\n",
            "0.00017348827\n",
            "0.0004507035\n",
            "0.000209098\n",
            "0.0003795268\n",
            "0.00026612214\n",
            "0.0003744829\n",
            "0.00025745624\n",
            "0.00048199424\n",
            "0.0002033695\n",
            "0.00035410063\n",
            "0.00027171947\n",
            "0.00030078634\n",
            "0.00022738693\n",
            "0.0002473505\n",
            "0.00016991478\n",
            "0.00033091314\n",
            "0.00017864117\n",
            "0.00026925845\n",
            "0.00018737817\n",
            "0.00023788234\n",
            "0.0001710746\n",
            "0.00018694697\n",
            "0.0001912417\n",
            "0.00018049528\n",
            "0.00016501483\n",
            "0.00018507833\n",
            "0.00016983955\n",
            "0.00019311861\n",
            "0.00017834733\n",
            "0.00018854348\n",
            "0.00016035614\n",
            "0.00015268865\n",
            "0.0001764279\n",
            "0.0001811779\n",
            "0.00014853338\n",
            "0.00015290428\n",
            "0.0001556602\n",
            "0.00015985662\n",
            "0.0001482353\n",
            "0.00015402083\n",
            "0.00015164164\n",
            "0.00015763288\n",
            "0.00015379305\n",
            "0.00013812071\n",
            "0.00013927367\n",
            "0.00016041887\n",
            "0.00013651067\n"
          ],
          "name": "stdout"
        }
      ]
    },
    {
      "cell_type": "code",
      "metadata": {
        "id": "6RNJOZZzAZ3K",
        "outputId": "1076e87f-10d7-40a0-e777-ad5ea04f867e",
        "colab": {
          "base_uri": "https://localhost:8080/",
          "height": 50
        }
      },
      "source": [
        "def nn_hylleraas(x, params):\n",
        "    r = np.linalg.norm(x, axis=1)\n",
        "    r1 = r[0]\n",
        "    r2 = r[1]\n",
        "\n",
        "    s = r1 + r2\n",
        "    t = r1 - r2\n",
        "    u = np.linalg.norm(np.subtract(x[1], x[0]))\n",
        "    return np.exp(-2*s)*(1 + 0.5*u*np.exp(-u))*predict(x, params)\n",
        "\n",
        "nn_hylleraas_wf = Wavefunction(nn_hylleraas, params)\n",
        "print(nn_hylleraas_wf.eval(np.array([[2.0, 1.0, 1.0], [1.0, 1.0, 2.0]])))\n",
        "print(hirschfelder_f(np.array([[2.0, 1.0, 1.0], [1.0, 1.0, 2.0]]), [1.013, 0.2119, 0.1406, -0.003]))"
      ],
      "execution_count": 62,
      "outputs": [
        {
          "output_type": "stream",
          "text": [
            "0.00011323609\n",
            "0.00015989525\n"
          ],
          "name": "stdout"
        }
      ]
    },
    {
      "cell_type": "code",
      "metadata": {
        "id": "zpdBDmaSA3t6"
      },
      "source": [
        "# I don't like this but i can't think of a more elegant way of evaluating\n",
        "# these operators atm without writing custom code for the ML wavefunction\n",
        "# that unrolls the parameter list\n",
        "\n",
        "@partial(jit, static_argnums=(1,))\n",
        "def sr_op_ml(config, wf):\n",
        "    gradlog = wf.p_gradlog_eval(config)\n",
        "    ih = itime_hamiltonian(config, wf)\n",
        "    \n",
        "    # reuse gradlog to save memory\n",
        "    gradlog = np.concatenate((np.array([1]), np.concatenate(tuple(np.concatenate((glw.flatten(), gb.flatten())) for (glw, gb) in gradlog))))\n",
        "    return np.multiply(ih, gradlog)\n",
        "\n",
        "@partial(jit, static_argnums=(1,))\n",
        "def overlap_matrix_ml(config, wf):\n",
        "    \"\"\"\n",
        "    Find the overlap matrix on the space of the parametric derivatives of `wf`\n",
        "    \"\"\"\n",
        "    \n",
        "    gradlog = wf.p_gradlog_eval(config)\n",
        "    gradlog = np.concatenate((np.array([1]), np.concatenate(tuple(np.concatenate((glw.flatten(), gb.flatten())) for (glw, gb) in gradlog))))\n",
        "    overlap_ij = vmap(lambda idx: gradlog[idx[0]]*gradlog[idx[1]])\n",
        "    \n",
        "    grid_pairs = np.array([(i,j) for i in range(gradlog.shape[0]) for j in range(gradlog.shape[0])])\n",
        "    \n",
        "    return overlap_ij(grid_pairs).reshape(gradlog.shape[0], gradlog.shape[0])"
      ],
      "execution_count": 63,
      "outputs": []
    },
    {
      "cell_type": "code",
      "metadata": {
        "id": "MMncMCk7A4EX"
      },
      "source": [
        "n_equi = 100\n",
        "n_iter = 1000\n",
        "n_chains = 50\n",
        "xis = random.uniform(key, (n_chains, 2, 3))\n",
        "keys = random.split(key, n_chains)\n",
        "configs = run_mcmc(keys, nn_hylleraas_wf, n_iter, n_equi, 0.5, xis)\n",
        "# Using VMAP here causes big time memory issues on devices with low memory\n",
        "# I believe this is because JAX copies the wavefunction parameters to each\n",
        "# vmap thread that is executing -> n_iter*n_chains*len(params) float32s\n",
        "# which quickly runs into the hundreds of GB. what is the workaround for this?\n",
        "# Surely a solved problem?\n",
        "\n",
        "# Regardless we are still vmapping over each n_iter set of configs inside the\n",
        "# monte_carlo function, so we incur n_chains serial executions\n",
        "E_E, E_V = reduce_mc_outs(jax.lax.map(lambda x: monte_carlo(x, local_energy, nn_hylleraas_wf), configs))\n",
        "overlap_E, overlap_V = reduce_mc_outs(jax.lax.map(lambda x: monte_carlo(x, overlap_matrix_ml, nn_hylleraas_wf), configs))\n",
        "sr_E, sr_V = reduce_mc_outs(jax.lax.map(lambda x: monte_carlo(x, sr_op_ml, nn_hylleraas_wf), configs))"
      ],
      "execution_count": 80,
      "outputs": []
    },
    {
      "cell_type": "code",
      "metadata": {
        "id": "nqCD9tXtK2oy",
        "outputId": "b41256ed-0f1b-498b-ee45-0b11e561ed9c",
        "colab": {
          "base_uri": "https://localhost:8080/",
          "height": 228
        }
      },
      "source": [
        "overlap_V / overlap_E"
      ],
      "execution_count": 83,
      "outputs": [
        {
          "output_type": "execute_result",
          "data": {
            "text/plain": [
              "DeviceArray([[ 0.0000000e+00,  1.3935639e-03,  1.3979027e-04, ...,\n",
              "              -4.7398420e-04, -1.8780836e-03,  1.8780028e-03],\n",
              "             [ 1.3935639e-03,  2.0142083e-04,  1.8347369e-05, ...,\n",
              "              -5.9934490e-04, -8.8142656e-04,  8.8163250e-04],\n",
              "             [ 1.3979027e-04,  1.8347369e-05,  2.8386216e-06, ...,\n",
              "              -6.0386239e-05, -9.2310991e-05,  9.2319366e-05],\n",
              "             ...,\n",
              "             [-4.7398420e-04, -5.9934490e-04, -6.0386239e-05, ...,\n",
              "               6.9036399e-04,  1.5703551e-03, -1.5703685e-03],\n",
              "             [-1.8780836e-03, -8.8142656e-04, -9.2310991e-05, ...,\n",
              "               1.5703551e-03,  4.5407400e-03, -4.5407414e-03],\n",
              "             [ 1.8780028e-03,  8.8163250e-04,  9.2319366e-05, ...,\n",
              "              -1.5703685e-03, -4.5407414e-03,  4.5407424e-03]],            dtype=float32)"
            ]
          },
          "metadata": {
            "tags": []
          },
          "execution_count": 83
        }
      ]
    },
    {
      "cell_type": "code",
      "metadata": {
        "id": "Ra3ey4tOB3FA",
        "outputId": "ca70d92f-e10b-4f64-9274-43b1f4cb4cae",
        "colab": {
          "base_uri": "https://localhost:8080/",
          "height": 426
        }
      },
      "source": [
        "n_equi = 100\n",
        "n_iter = 1000\n",
        "n_chains = 50\n",
        "xis = random.uniform(key, (n_chains, 2, 3))\n",
        "keys = random.split(key, n_chains)\n",
        "ml_wf = Wavefunction(nn_hylleraas, params)\n",
        "\n",
        "for i in range(40):\n",
        "  configs = run_mcmc(keys, ml_wf, n_iter, n_equi, 0.5, xis)\n",
        "  E_E, E_V = reduce_mc_outs(jax.lax.map(lambda x: monte_carlo(x, local_energy, ml_wf), configs))\n",
        "  overlap_E, overlap_V = reduce_mc_outs(jax.lax.map(lambda x: monte_carlo(x, overlap_matrix_ml, ml_wf), configs))\n",
        "  sr_E, sr_V = reduce_mc_outs(jax.lax.map(lambda x: monte_carlo(x, sr_op_ml, ml_wf), configs))\n",
        "\n",
        "  dps = np.linalg.solve(overlap_E, sr_E)\n",
        "  p_flat = np.concatenate(tuple(np.concatenate((w.flatten(), b.flatten())) for (w, b) in params))\n",
        "  dps = dps[1:] / dps[0]\n",
        "  p_flat = np.add(p_flat, dps)\n",
        "\n",
        "  sizes = layer_sizes\n",
        "  idx = 0\n",
        "  p_wrapped = []\n",
        "  for m, n in zip(sizes[:-1], sizes[1:]):\n",
        "    p_wrapped.append(\n",
        "        [p_flat[idx:idx + m*n].reshape((n, m)), p_flat[idx + m*n:idx + (m+1)*(n)]]\n",
        "    )\n",
        "    idx += (m+1)*(n)\n",
        "\n",
        "  ml_wf = Wavefunction(nn_hylleraas, p_wrapped)\n",
        "  print(\"{} pm {} at step {}\".format(E_E, E_V, i))"
      ],
      "execution_count": 66,
      "outputs": [
        {
          "output_type": "stream",
          "text": [
            "-2.829336404800415 pm 0.07303611934185028 at step 0\n",
            "-92622.875 pm 1579175247872.0 at step 1\n",
            "nan pm nan at step 2\n",
            "nan pm nan at step 3\n"
          ],
          "name": "stdout"
        },
        {
          "output_type": "error",
          "ename": "KeyboardInterrupt",
          "evalue": "ignored",
          "traceback": [
            "\u001b[0;31m---------------------------------------------------------------------------\u001b[0m",
            "\u001b[0;31mKeyboardInterrupt\u001b[0m                         Traceback (most recent call last)",
            "\u001b[0;32m<ipython-input-66-e73c648ab84e>\u001b[0m in \u001b[0;36m<module>\u001b[0;34m()\u001b[0m\n\u001b[1;32m      7\u001b[0m \u001b[0;34m\u001b[0m\u001b[0m\n\u001b[1;32m      8\u001b[0m \u001b[0;32mfor\u001b[0m \u001b[0mi\u001b[0m \u001b[0;32min\u001b[0m \u001b[0mrange\u001b[0m\u001b[0;34m(\u001b[0m\u001b[0;36m40\u001b[0m\u001b[0;34m)\u001b[0m\u001b[0;34m:\u001b[0m\u001b[0;34m\u001b[0m\u001b[0;34m\u001b[0m\u001b[0m\n\u001b[0;32m----> 9\u001b[0;31m   \u001b[0mconfigs\u001b[0m \u001b[0;34m=\u001b[0m \u001b[0mrun_mcmc\u001b[0m\u001b[0;34m(\u001b[0m\u001b[0mkeys\u001b[0m\u001b[0;34m,\u001b[0m \u001b[0mml_wf\u001b[0m\u001b[0;34m,\u001b[0m \u001b[0mn_iter\u001b[0m\u001b[0;34m,\u001b[0m \u001b[0mn_equi\u001b[0m\u001b[0;34m,\u001b[0m \u001b[0;36m0.5\u001b[0m\u001b[0;34m,\u001b[0m \u001b[0mxis\u001b[0m\u001b[0;34m)\u001b[0m\u001b[0;34m\u001b[0m\u001b[0;34m\u001b[0m\u001b[0m\n\u001b[0m\u001b[1;32m     10\u001b[0m   \u001b[0mE_E\u001b[0m\u001b[0;34m,\u001b[0m \u001b[0mE_V\u001b[0m \u001b[0;34m=\u001b[0m \u001b[0mreduce_mc_outs\u001b[0m\u001b[0;34m(\u001b[0m\u001b[0mjax\u001b[0m\u001b[0;34m.\u001b[0m\u001b[0mlax\u001b[0m\u001b[0;34m.\u001b[0m\u001b[0mmap\u001b[0m\u001b[0;34m(\u001b[0m\u001b[0;32mlambda\u001b[0m \u001b[0mx\u001b[0m\u001b[0;34m:\u001b[0m \u001b[0mmonte_carlo\u001b[0m\u001b[0;34m(\u001b[0m\u001b[0mx\u001b[0m\u001b[0;34m,\u001b[0m \u001b[0mlocal_energy\u001b[0m\u001b[0;34m,\u001b[0m \u001b[0mml_wf\u001b[0m\u001b[0;34m)\u001b[0m\u001b[0;34m,\u001b[0m \u001b[0mconfigs\u001b[0m\u001b[0;34m)\u001b[0m\u001b[0;34m)\u001b[0m\u001b[0;34m\u001b[0m\u001b[0;34m\u001b[0m\u001b[0m\n\u001b[1;32m     11\u001b[0m   \u001b[0moverlap_E\u001b[0m\u001b[0;34m,\u001b[0m \u001b[0moverlap_V\u001b[0m \u001b[0;34m=\u001b[0m \u001b[0mreduce_mc_outs\u001b[0m\u001b[0;34m(\u001b[0m\u001b[0mjax\u001b[0m\u001b[0;34m.\u001b[0m\u001b[0mlax\u001b[0m\u001b[0;34m.\u001b[0m\u001b[0mmap\u001b[0m\u001b[0;34m(\u001b[0m\u001b[0;32mlambda\u001b[0m \u001b[0mx\u001b[0m\u001b[0;34m:\u001b[0m \u001b[0mmonte_carlo\u001b[0m\u001b[0;34m(\u001b[0m\u001b[0mx\u001b[0m\u001b[0;34m,\u001b[0m \u001b[0moverlap_matrix_ml\u001b[0m\u001b[0;34m,\u001b[0m \u001b[0mml_wf\u001b[0m\u001b[0;34m)\u001b[0m\u001b[0;34m,\u001b[0m \u001b[0mconfigs\u001b[0m\u001b[0;34m)\u001b[0m\u001b[0;34m)\u001b[0m\u001b[0;34m\u001b[0m\u001b[0;34m\u001b[0m\u001b[0m\n",
            "\u001b[0;32m/usr/local/lib/python3.6/dist-packages/jax/api.py\u001b[0m in \u001b[0;36mbatched_fun\u001b[0;34m(*args)\u001b[0m\n\u001b[1;32m   1218\u001b[0m                               lambda: flatten_axes(\"vmap out_axes\", out_tree(),\n\u001b[1;32m   1219\u001b[0m                                                    out_axes),\n\u001b[0;32m-> 1220\u001b[0;31m                               axis_name=axis_name)\n\u001b[0m\u001b[1;32m   1221\u001b[0m     \u001b[0;32mreturn\u001b[0m \u001b[0mtree_unflatten\u001b[0m\u001b[0;34m(\u001b[0m\u001b[0mout_tree\u001b[0m\u001b[0;34m(\u001b[0m\u001b[0;34m)\u001b[0m\u001b[0;34m,\u001b[0m \u001b[0mout_flat\u001b[0m\u001b[0;34m)\u001b[0m\u001b[0;34m\u001b[0m\u001b[0;34m\u001b[0m\u001b[0m\n\u001b[1;32m   1222\u001b[0m \u001b[0;34m\u001b[0m\u001b[0m\n",
            "\u001b[0;32m/usr/local/lib/python3.6/dist-packages/jax/interpreters/batching.py\u001b[0m in \u001b[0;36mbatch\u001b[0;34m(fun, in_vals, in_dims, out_dim_dests, axis_name)\u001b[0m\n\u001b[1;32m     34\u001b[0m   \u001b[0;31m# executes a batched version of `fun` following out_dim_dests\u001b[0m\u001b[0;34m\u001b[0m\u001b[0;34m\u001b[0m\u001b[0;34m\u001b[0m\u001b[0m\n\u001b[1;32m     35\u001b[0m   \u001b[0mbatched_fun\u001b[0m \u001b[0;34m=\u001b[0m \u001b[0mbatch_fun\u001b[0m\u001b[0;34m(\u001b[0m\u001b[0mfun\u001b[0m\u001b[0;34m,\u001b[0m \u001b[0min_dims\u001b[0m\u001b[0;34m,\u001b[0m \u001b[0mout_dim_dests\u001b[0m\u001b[0;34m,\u001b[0m \u001b[0maxis_name\u001b[0m\u001b[0;34m=\u001b[0m\u001b[0maxis_name\u001b[0m\u001b[0;34m)\u001b[0m\u001b[0;34m\u001b[0m\u001b[0;34m\u001b[0m\u001b[0m\n\u001b[0;32m---> 36\u001b[0;31m   \u001b[0;32mreturn\u001b[0m \u001b[0mbatched_fun\u001b[0m\u001b[0;34m.\u001b[0m\u001b[0mcall_wrapped\u001b[0m\u001b[0;34m(\u001b[0m\u001b[0;34m*\u001b[0m\u001b[0min_vals\u001b[0m\u001b[0;34m)\u001b[0m\u001b[0;34m\u001b[0m\u001b[0;34m\u001b[0m\u001b[0m\n\u001b[0m\u001b[1;32m     37\u001b[0m \u001b[0;34m\u001b[0m\u001b[0m\n\u001b[1;32m     38\u001b[0m \u001b[0;34m@\u001b[0m\u001b[0mlu\u001b[0m\u001b[0;34m.\u001b[0m\u001b[0mtransformation_with_aux\u001b[0m\u001b[0;34m\u001b[0m\u001b[0;34m\u001b[0m\u001b[0m\n",
            "\u001b[0;32m/usr/local/lib/python3.6/dist-packages/jax/linear_util.py\u001b[0m in \u001b[0;36mcall_wrapped\u001b[0;34m(self, *args, **kwargs)\u001b[0m\n\u001b[1;32m    149\u001b[0m \u001b[0;34m\u001b[0m\u001b[0m\n\u001b[1;32m    150\u001b[0m     \u001b[0;32mtry\u001b[0m\u001b[0;34m:\u001b[0m\u001b[0;34m\u001b[0m\u001b[0;34m\u001b[0m\u001b[0m\n\u001b[0;32m--> 151\u001b[0;31m       \u001b[0mans\u001b[0m \u001b[0;34m=\u001b[0m \u001b[0mself\u001b[0m\u001b[0;34m.\u001b[0m\u001b[0mf\u001b[0m\u001b[0;34m(\u001b[0m\u001b[0;34m*\u001b[0m\u001b[0margs\u001b[0m\u001b[0;34m,\u001b[0m \u001b[0;34m**\u001b[0m\u001b[0mdict\u001b[0m\u001b[0;34m(\u001b[0m\u001b[0mself\u001b[0m\u001b[0;34m.\u001b[0m\u001b[0mparams\u001b[0m\u001b[0;34m,\u001b[0m \u001b[0;34m**\u001b[0m\u001b[0mkwargs\u001b[0m\u001b[0;34m)\u001b[0m\u001b[0;34m)\u001b[0m\u001b[0;34m\u001b[0m\u001b[0;34m\u001b[0m\u001b[0m\n\u001b[0m\u001b[1;32m    152\u001b[0m     \u001b[0;32mexcept\u001b[0m\u001b[0;34m:\u001b[0m\u001b[0;34m\u001b[0m\u001b[0;34m\u001b[0m\u001b[0m\n\u001b[1;32m    153\u001b[0m       \u001b[0;31m# Some transformations yield from inside context managers, so we have to\u001b[0m\u001b[0;34m\u001b[0m\u001b[0;34m\u001b[0m\u001b[0;34m\u001b[0m\u001b[0m\n",
            "\u001b[0;32m/usr/local/lib/python3.6/dist-packages/jax/api.py\u001b[0m in \u001b[0;36mf_jitted\u001b[0;34m(*args, **kwargs)\u001b[0m\n\u001b[1;32m    213\u001b[0m         \u001b[0mbackend\u001b[0m\u001b[0;34m=\u001b[0m\u001b[0mbackend\u001b[0m\u001b[0;34m,\u001b[0m\u001b[0;34m\u001b[0m\u001b[0;34m\u001b[0m\u001b[0m\n\u001b[1;32m    214\u001b[0m         \u001b[0mname\u001b[0m\u001b[0;34m=\u001b[0m\u001b[0mflat_fun\u001b[0m\u001b[0;34m.\u001b[0m\u001b[0m__name__\u001b[0m\u001b[0;34m,\u001b[0m\u001b[0;34m\u001b[0m\u001b[0;34m\u001b[0m\u001b[0m\n\u001b[0;32m--> 215\u001b[0;31m         donated_invars=donated_invars)\n\u001b[0m\u001b[1;32m    216\u001b[0m     \u001b[0;32mreturn\u001b[0m \u001b[0mtree_unflatten\u001b[0m\u001b[0;34m(\u001b[0m\u001b[0mout_tree\u001b[0m\u001b[0;34m(\u001b[0m\u001b[0;34m)\u001b[0m\u001b[0;34m,\u001b[0m \u001b[0mout\u001b[0m\u001b[0;34m)\u001b[0m\u001b[0;34m\u001b[0m\u001b[0;34m\u001b[0m\u001b[0m\n\u001b[1;32m    217\u001b[0m \u001b[0;34m\u001b[0m\u001b[0m\n",
            "\u001b[0;32m/usr/local/lib/python3.6/dist-packages/jax/core.py\u001b[0m in \u001b[0;36mbind\u001b[0;34m(self, fun, *args, **params)\u001b[0m\n\u001b[1;32m   1142\u001b[0m \u001b[0;34m\u001b[0m\u001b[0m\n\u001b[1;32m   1143\u001b[0m   \u001b[0;32mdef\u001b[0m \u001b[0mbind\u001b[0m\u001b[0;34m(\u001b[0m\u001b[0mself\u001b[0m\u001b[0;34m,\u001b[0m \u001b[0mfun\u001b[0m\u001b[0;34m,\u001b[0m \u001b[0;34m*\u001b[0m\u001b[0margs\u001b[0m\u001b[0;34m,\u001b[0m \u001b[0;34m**\u001b[0m\u001b[0mparams\u001b[0m\u001b[0;34m)\u001b[0m\u001b[0;34m:\u001b[0m\u001b[0;34m\u001b[0m\u001b[0;34m\u001b[0m\u001b[0m\n\u001b[0;32m-> 1144\u001b[0;31m     \u001b[0;32mreturn\u001b[0m \u001b[0mcall_bind\u001b[0m\u001b[0;34m(\u001b[0m\u001b[0mself\u001b[0m\u001b[0;34m,\u001b[0m \u001b[0mfun\u001b[0m\u001b[0;34m,\u001b[0m \u001b[0;34m*\u001b[0m\u001b[0margs\u001b[0m\u001b[0;34m,\u001b[0m \u001b[0;34m**\u001b[0m\u001b[0mparams\u001b[0m\u001b[0;34m)\u001b[0m\u001b[0;34m\u001b[0m\u001b[0;34m\u001b[0m\u001b[0m\n\u001b[0m\u001b[1;32m   1145\u001b[0m \u001b[0;34m\u001b[0m\u001b[0m\n\u001b[1;32m   1146\u001b[0m   \u001b[0;32mdef\u001b[0m \u001b[0mprocess\u001b[0m\u001b[0;34m(\u001b[0m\u001b[0mself\u001b[0m\u001b[0;34m,\u001b[0m \u001b[0mtrace\u001b[0m\u001b[0;34m,\u001b[0m \u001b[0mfun\u001b[0m\u001b[0;34m,\u001b[0m \u001b[0mtracers\u001b[0m\u001b[0;34m,\u001b[0m \u001b[0mparams\u001b[0m\u001b[0;34m)\u001b[0m\u001b[0;34m:\u001b[0m\u001b[0;34m\u001b[0m\u001b[0;34m\u001b[0m\u001b[0m\n",
            "\u001b[0;32m/usr/local/lib/python3.6/dist-packages/jax/core.py\u001b[0m in \u001b[0;36mcall_bind\u001b[0;34m(primitive, fun, *args, **params)\u001b[0m\n\u001b[1;32m   1133\u001b[0m   \u001b[0mtracers\u001b[0m \u001b[0;34m=\u001b[0m \u001b[0mmap\u001b[0m\u001b[0;34m(\u001b[0m\u001b[0mtop_trace\u001b[0m\u001b[0;34m.\u001b[0m\u001b[0mfull_raise\u001b[0m\u001b[0;34m,\u001b[0m \u001b[0margs\u001b[0m\u001b[0;34m)\u001b[0m\u001b[0;34m\u001b[0m\u001b[0;34m\u001b[0m\u001b[0m\n\u001b[1;32m   1134\u001b[0m   \u001b[0;32mwith\u001b[0m \u001b[0mmaybe_new_sublevel\u001b[0m\u001b[0;34m(\u001b[0m\u001b[0mtop_trace\u001b[0m\u001b[0;34m)\u001b[0m\u001b[0;34m:\u001b[0m\u001b[0;34m\u001b[0m\u001b[0;34m\u001b[0m\u001b[0m\n\u001b[0;32m-> 1135\u001b[0;31m     \u001b[0mouts\u001b[0m \u001b[0;34m=\u001b[0m \u001b[0mprimitive\u001b[0m\u001b[0;34m.\u001b[0m\u001b[0mprocess\u001b[0m\u001b[0;34m(\u001b[0m\u001b[0mtop_trace\u001b[0m\u001b[0;34m,\u001b[0m \u001b[0mfun\u001b[0m\u001b[0;34m,\u001b[0m \u001b[0mtracers\u001b[0m\u001b[0;34m,\u001b[0m \u001b[0mparams\u001b[0m\u001b[0;34m)\u001b[0m\u001b[0;34m\u001b[0m\u001b[0;34m\u001b[0m\u001b[0m\n\u001b[0m\u001b[1;32m   1136\u001b[0m   \u001b[0;32mreturn\u001b[0m \u001b[0mmap\u001b[0m\u001b[0;34m(\u001b[0m\u001b[0mfull_lower\u001b[0m\u001b[0;34m,\u001b[0m \u001b[0mapply_todos\u001b[0m\u001b[0;34m(\u001b[0m\u001b[0menv_trace_todo\u001b[0m\u001b[0;34m(\u001b[0m\u001b[0;34m)\u001b[0m\u001b[0;34m,\u001b[0m \u001b[0mouts\u001b[0m\u001b[0;34m)\u001b[0m\u001b[0;34m)\u001b[0m\u001b[0;34m\u001b[0m\u001b[0;34m\u001b[0m\u001b[0m\n\u001b[1;32m   1137\u001b[0m \u001b[0;34m\u001b[0m\u001b[0m\n",
            "\u001b[0;32m/usr/local/lib/python3.6/dist-packages/jax/core.py\u001b[0m in \u001b[0;36mprocess\u001b[0;34m(self, trace, fun, tracers, params)\u001b[0m\n\u001b[1;32m   1145\u001b[0m \u001b[0;34m\u001b[0m\u001b[0m\n\u001b[1;32m   1146\u001b[0m   \u001b[0;32mdef\u001b[0m \u001b[0mprocess\u001b[0m\u001b[0;34m(\u001b[0m\u001b[0mself\u001b[0m\u001b[0;34m,\u001b[0m \u001b[0mtrace\u001b[0m\u001b[0;34m,\u001b[0m \u001b[0mfun\u001b[0m\u001b[0;34m,\u001b[0m \u001b[0mtracers\u001b[0m\u001b[0;34m,\u001b[0m \u001b[0mparams\u001b[0m\u001b[0;34m)\u001b[0m\u001b[0;34m:\u001b[0m\u001b[0;34m\u001b[0m\u001b[0;34m\u001b[0m\u001b[0m\n\u001b[0;32m-> 1147\u001b[0;31m     \u001b[0;32mreturn\u001b[0m \u001b[0mtrace\u001b[0m\u001b[0;34m.\u001b[0m\u001b[0mprocess_call\u001b[0m\u001b[0;34m(\u001b[0m\u001b[0mself\u001b[0m\u001b[0;34m,\u001b[0m \u001b[0mfun\u001b[0m\u001b[0;34m,\u001b[0m \u001b[0mtracers\u001b[0m\u001b[0;34m,\u001b[0m \u001b[0mparams\u001b[0m\u001b[0;34m)\u001b[0m\u001b[0;34m\u001b[0m\u001b[0;34m\u001b[0m\u001b[0m\n\u001b[0m\u001b[1;32m   1148\u001b[0m \u001b[0;34m\u001b[0m\u001b[0m\n\u001b[1;32m   1149\u001b[0m   \u001b[0;32mdef\u001b[0m \u001b[0mpost_process\u001b[0m\u001b[0;34m(\u001b[0m\u001b[0mself\u001b[0m\u001b[0;34m,\u001b[0m \u001b[0mtrace\u001b[0m\u001b[0;34m,\u001b[0m \u001b[0mout_tracers\u001b[0m\u001b[0;34m,\u001b[0m \u001b[0mparams\u001b[0m\u001b[0;34m)\u001b[0m\u001b[0;34m:\u001b[0m\u001b[0;34m\u001b[0m\u001b[0;34m\u001b[0m\u001b[0m\n",
            "\u001b[0;32m/usr/local/lib/python3.6/dist-packages/jax/interpreters/batching.py\u001b[0m in \u001b[0;36mprocess_call\u001b[0;34m(self, call_primitive, f, tracers, params)\u001b[0m\n\u001b[1;32m    169\u001b[0m     \u001b[0;32melse\u001b[0m\u001b[0;34m:\u001b[0m\u001b[0;34m\u001b[0m\u001b[0;34m\u001b[0m\u001b[0m\n\u001b[1;32m    170\u001b[0m       \u001b[0mf\u001b[0m\u001b[0;34m,\u001b[0m \u001b[0mdims_out\u001b[0m \u001b[0;34m=\u001b[0m \u001b[0mbatch_subtrace\u001b[0m\u001b[0;34m(\u001b[0m\u001b[0mf\u001b[0m\u001b[0;34m,\u001b[0m \u001b[0mself\u001b[0m\u001b[0;34m.\u001b[0m\u001b[0mmain\u001b[0m\u001b[0;34m,\u001b[0m \u001b[0mdims\u001b[0m\u001b[0;34m)\u001b[0m\u001b[0;34m\u001b[0m\u001b[0;34m\u001b[0m\u001b[0m\n\u001b[0;32m--> 171\u001b[0;31m       \u001b[0mvals_out\u001b[0m \u001b[0;34m=\u001b[0m \u001b[0mcall_primitive\u001b[0m\u001b[0;34m.\u001b[0m\u001b[0mbind\u001b[0m\u001b[0;34m(\u001b[0m\u001b[0mf\u001b[0m\u001b[0;34m,\u001b[0m \u001b[0;34m*\u001b[0m\u001b[0mvals\u001b[0m\u001b[0;34m,\u001b[0m \u001b[0;34m**\u001b[0m\u001b[0mparams\u001b[0m\u001b[0;34m)\u001b[0m\u001b[0;34m\u001b[0m\u001b[0;34m\u001b[0m\u001b[0m\n\u001b[0m\u001b[1;32m    172\u001b[0m       \u001b[0;32mreturn\u001b[0m \u001b[0;34m[\u001b[0m\u001b[0mBatchTracer\u001b[0m\u001b[0;34m(\u001b[0m\u001b[0mself\u001b[0m\u001b[0;34m,\u001b[0m \u001b[0mv\u001b[0m\u001b[0;34m,\u001b[0m \u001b[0md\u001b[0m\u001b[0;34m)\u001b[0m \u001b[0;32mfor\u001b[0m \u001b[0mv\u001b[0m\u001b[0;34m,\u001b[0m \u001b[0md\u001b[0m \u001b[0;32min\u001b[0m \u001b[0mzip\u001b[0m\u001b[0;34m(\u001b[0m\u001b[0mvals_out\u001b[0m\u001b[0;34m,\u001b[0m \u001b[0mdims_out\u001b[0m\u001b[0;34m(\u001b[0m\u001b[0;34m)\u001b[0m\u001b[0;34m)\u001b[0m\u001b[0;34m]\u001b[0m\u001b[0;34m\u001b[0m\u001b[0;34m\u001b[0m\u001b[0m\n\u001b[1;32m    173\u001b[0m \u001b[0;34m\u001b[0m\u001b[0m\n",
            "\u001b[0;32m/usr/local/lib/python3.6/dist-packages/jax/core.py\u001b[0m in \u001b[0;36mbind\u001b[0;34m(self, fun, *args, **params)\u001b[0m\n\u001b[1;32m   1142\u001b[0m \u001b[0;34m\u001b[0m\u001b[0m\n\u001b[1;32m   1143\u001b[0m   \u001b[0;32mdef\u001b[0m \u001b[0mbind\u001b[0m\u001b[0;34m(\u001b[0m\u001b[0mself\u001b[0m\u001b[0;34m,\u001b[0m \u001b[0mfun\u001b[0m\u001b[0;34m,\u001b[0m \u001b[0;34m*\u001b[0m\u001b[0margs\u001b[0m\u001b[0;34m,\u001b[0m \u001b[0;34m**\u001b[0m\u001b[0mparams\u001b[0m\u001b[0;34m)\u001b[0m\u001b[0;34m:\u001b[0m\u001b[0;34m\u001b[0m\u001b[0;34m\u001b[0m\u001b[0m\n\u001b[0;32m-> 1144\u001b[0;31m     \u001b[0;32mreturn\u001b[0m \u001b[0mcall_bind\u001b[0m\u001b[0;34m(\u001b[0m\u001b[0mself\u001b[0m\u001b[0;34m,\u001b[0m \u001b[0mfun\u001b[0m\u001b[0;34m,\u001b[0m \u001b[0;34m*\u001b[0m\u001b[0margs\u001b[0m\u001b[0;34m,\u001b[0m \u001b[0;34m**\u001b[0m\u001b[0mparams\u001b[0m\u001b[0;34m)\u001b[0m\u001b[0;34m\u001b[0m\u001b[0;34m\u001b[0m\u001b[0m\n\u001b[0m\u001b[1;32m   1145\u001b[0m \u001b[0;34m\u001b[0m\u001b[0m\n\u001b[1;32m   1146\u001b[0m   \u001b[0;32mdef\u001b[0m \u001b[0mprocess\u001b[0m\u001b[0;34m(\u001b[0m\u001b[0mself\u001b[0m\u001b[0;34m,\u001b[0m \u001b[0mtrace\u001b[0m\u001b[0;34m,\u001b[0m \u001b[0mfun\u001b[0m\u001b[0;34m,\u001b[0m \u001b[0mtracers\u001b[0m\u001b[0;34m,\u001b[0m \u001b[0mparams\u001b[0m\u001b[0;34m)\u001b[0m\u001b[0;34m:\u001b[0m\u001b[0;34m\u001b[0m\u001b[0;34m\u001b[0m\u001b[0m\n",
            "\u001b[0;32m/usr/local/lib/python3.6/dist-packages/jax/core.py\u001b[0m in \u001b[0;36mcall_bind\u001b[0;34m(primitive, fun, *args, **params)\u001b[0m\n\u001b[1;32m   1133\u001b[0m   \u001b[0mtracers\u001b[0m \u001b[0;34m=\u001b[0m \u001b[0mmap\u001b[0m\u001b[0;34m(\u001b[0m\u001b[0mtop_trace\u001b[0m\u001b[0;34m.\u001b[0m\u001b[0mfull_raise\u001b[0m\u001b[0;34m,\u001b[0m \u001b[0margs\u001b[0m\u001b[0;34m)\u001b[0m\u001b[0;34m\u001b[0m\u001b[0;34m\u001b[0m\u001b[0m\n\u001b[1;32m   1134\u001b[0m   \u001b[0;32mwith\u001b[0m \u001b[0mmaybe_new_sublevel\u001b[0m\u001b[0;34m(\u001b[0m\u001b[0mtop_trace\u001b[0m\u001b[0;34m)\u001b[0m\u001b[0;34m:\u001b[0m\u001b[0;34m\u001b[0m\u001b[0;34m\u001b[0m\u001b[0m\n\u001b[0;32m-> 1135\u001b[0;31m     \u001b[0mouts\u001b[0m \u001b[0;34m=\u001b[0m \u001b[0mprimitive\u001b[0m\u001b[0;34m.\u001b[0m\u001b[0mprocess\u001b[0m\u001b[0;34m(\u001b[0m\u001b[0mtop_trace\u001b[0m\u001b[0;34m,\u001b[0m \u001b[0mfun\u001b[0m\u001b[0;34m,\u001b[0m \u001b[0mtracers\u001b[0m\u001b[0;34m,\u001b[0m \u001b[0mparams\u001b[0m\u001b[0;34m)\u001b[0m\u001b[0;34m\u001b[0m\u001b[0;34m\u001b[0m\u001b[0m\n\u001b[0m\u001b[1;32m   1136\u001b[0m   \u001b[0;32mreturn\u001b[0m \u001b[0mmap\u001b[0m\u001b[0;34m(\u001b[0m\u001b[0mfull_lower\u001b[0m\u001b[0;34m,\u001b[0m \u001b[0mapply_todos\u001b[0m\u001b[0;34m(\u001b[0m\u001b[0menv_trace_todo\u001b[0m\u001b[0;34m(\u001b[0m\u001b[0;34m)\u001b[0m\u001b[0;34m,\u001b[0m \u001b[0mouts\u001b[0m\u001b[0;34m)\u001b[0m\u001b[0;34m)\u001b[0m\u001b[0;34m\u001b[0m\u001b[0;34m\u001b[0m\u001b[0m\n\u001b[1;32m   1137\u001b[0m \u001b[0;34m\u001b[0m\u001b[0m\n",
            "\u001b[0;32m/usr/local/lib/python3.6/dist-packages/jax/core.py\u001b[0m in \u001b[0;36mprocess\u001b[0;34m(self, trace, fun, tracers, params)\u001b[0m\n\u001b[1;32m   1145\u001b[0m \u001b[0;34m\u001b[0m\u001b[0m\n\u001b[1;32m   1146\u001b[0m   \u001b[0;32mdef\u001b[0m \u001b[0mprocess\u001b[0m\u001b[0;34m(\u001b[0m\u001b[0mself\u001b[0m\u001b[0;34m,\u001b[0m \u001b[0mtrace\u001b[0m\u001b[0;34m,\u001b[0m \u001b[0mfun\u001b[0m\u001b[0;34m,\u001b[0m \u001b[0mtracers\u001b[0m\u001b[0;34m,\u001b[0m \u001b[0mparams\u001b[0m\u001b[0;34m)\u001b[0m\u001b[0;34m:\u001b[0m\u001b[0;34m\u001b[0m\u001b[0;34m\u001b[0m\u001b[0m\n\u001b[0;32m-> 1147\u001b[0;31m     \u001b[0;32mreturn\u001b[0m \u001b[0mtrace\u001b[0m\u001b[0;34m.\u001b[0m\u001b[0mprocess_call\u001b[0m\u001b[0;34m(\u001b[0m\u001b[0mself\u001b[0m\u001b[0;34m,\u001b[0m \u001b[0mfun\u001b[0m\u001b[0;34m,\u001b[0m \u001b[0mtracers\u001b[0m\u001b[0;34m,\u001b[0m \u001b[0mparams\u001b[0m\u001b[0;34m)\u001b[0m\u001b[0;34m\u001b[0m\u001b[0;34m\u001b[0m\u001b[0m\n\u001b[0m\u001b[1;32m   1148\u001b[0m \u001b[0;34m\u001b[0m\u001b[0m\n\u001b[1;32m   1149\u001b[0m   \u001b[0;32mdef\u001b[0m \u001b[0mpost_process\u001b[0m\u001b[0;34m(\u001b[0m\u001b[0mself\u001b[0m\u001b[0;34m,\u001b[0m \u001b[0mtrace\u001b[0m\u001b[0;34m,\u001b[0m \u001b[0mout_tracers\u001b[0m\u001b[0;34m,\u001b[0m \u001b[0mparams\u001b[0m\u001b[0;34m)\u001b[0m\u001b[0;34m:\u001b[0m\u001b[0;34m\u001b[0m\u001b[0;34m\u001b[0m\u001b[0m\n",
            "\u001b[0;32m/usr/local/lib/python3.6/dist-packages/jax/core.py\u001b[0m in \u001b[0;36mprocess_call\u001b[0;34m(self, primitive, f, tracers, params)\u001b[0m\n\u001b[1;32m    575\u001b[0m \u001b[0;34m\u001b[0m\u001b[0m\n\u001b[1;32m    576\u001b[0m   \u001b[0;32mdef\u001b[0m \u001b[0mprocess_call\u001b[0m\u001b[0;34m(\u001b[0m\u001b[0mself\u001b[0m\u001b[0;34m,\u001b[0m \u001b[0mprimitive\u001b[0m\u001b[0;34m,\u001b[0m \u001b[0mf\u001b[0m\u001b[0;34m,\u001b[0m \u001b[0mtracers\u001b[0m\u001b[0;34m,\u001b[0m \u001b[0mparams\u001b[0m\u001b[0;34m)\u001b[0m\u001b[0;34m:\u001b[0m\u001b[0;34m\u001b[0m\u001b[0;34m\u001b[0m\u001b[0m\n\u001b[0;32m--> 577\u001b[0;31m     \u001b[0;32mreturn\u001b[0m \u001b[0mprimitive\u001b[0m\u001b[0;34m.\u001b[0m\u001b[0mimpl\u001b[0m\u001b[0;34m(\u001b[0m\u001b[0mf\u001b[0m\u001b[0;34m,\u001b[0m \u001b[0;34m*\u001b[0m\u001b[0mtracers\u001b[0m\u001b[0;34m,\u001b[0m \u001b[0;34m**\u001b[0m\u001b[0mparams\u001b[0m\u001b[0;34m)\u001b[0m\u001b[0;34m\u001b[0m\u001b[0;34m\u001b[0m\u001b[0m\n\u001b[0m\u001b[1;32m    578\u001b[0m   \u001b[0mprocess_map\u001b[0m \u001b[0;34m=\u001b[0m \u001b[0mprocess_call\u001b[0m\u001b[0;34m\u001b[0m\u001b[0;34m\u001b[0m\u001b[0m\n\u001b[1;32m    579\u001b[0m \u001b[0;34m\u001b[0m\u001b[0m\n",
            "\u001b[0;32m/usr/local/lib/python3.6/dist-packages/jax/interpreters/xla.py\u001b[0m in \u001b[0;36m_xla_call_impl\u001b[0;34m(fun, device, backend, name, donated_invars, *args)\u001b[0m\n\u001b[1;32m    528\u001b[0m \u001b[0;32mdef\u001b[0m \u001b[0m_xla_call_impl\u001b[0m\u001b[0;34m(\u001b[0m\u001b[0mfun\u001b[0m\u001b[0;34m:\u001b[0m \u001b[0mlu\u001b[0m\u001b[0;34m.\u001b[0m\u001b[0mWrappedFun\u001b[0m\u001b[0;34m,\u001b[0m \u001b[0;34m*\u001b[0m\u001b[0margs\u001b[0m\u001b[0;34m,\u001b[0m \u001b[0mdevice\u001b[0m\u001b[0;34m,\u001b[0m \u001b[0mbackend\u001b[0m\u001b[0;34m,\u001b[0m \u001b[0mname\u001b[0m\u001b[0;34m,\u001b[0m \u001b[0mdonated_invars\u001b[0m\u001b[0;34m)\u001b[0m\u001b[0;34m:\u001b[0m\u001b[0;34m\u001b[0m\u001b[0;34m\u001b[0m\u001b[0m\n\u001b[1;32m    529\u001b[0m   compiled_fun = _xla_callable(fun, device, backend, name, donated_invars,\n\u001b[0;32m--> 530\u001b[0;31m                                *unsafe_map(arg_spec, args))\n\u001b[0m\u001b[1;32m    531\u001b[0m   \u001b[0;32mtry\u001b[0m\u001b[0;34m:\u001b[0m\u001b[0;34m\u001b[0m\u001b[0;34m\u001b[0m\u001b[0m\n\u001b[1;32m    532\u001b[0m     \u001b[0;32mreturn\u001b[0m \u001b[0mcompiled_fun\u001b[0m\u001b[0;34m(\u001b[0m\u001b[0;34m*\u001b[0m\u001b[0margs\u001b[0m\u001b[0;34m)\u001b[0m\u001b[0;34m\u001b[0m\u001b[0;34m\u001b[0m\u001b[0m\n",
            "\u001b[0;32m/usr/local/lib/python3.6/dist-packages/jax/linear_util.py\u001b[0m in \u001b[0;36mmemoized_fun\u001b[0;34m(fun, *args)\u001b[0m\n\u001b[1;32m    232\u001b[0m       \u001b[0mfun\u001b[0m\u001b[0;34m.\u001b[0m\u001b[0mpopulate_stores\u001b[0m\u001b[0;34m(\u001b[0m\u001b[0mstores\u001b[0m\u001b[0;34m)\u001b[0m\u001b[0;34m\u001b[0m\u001b[0;34m\u001b[0m\u001b[0m\n\u001b[1;32m    233\u001b[0m     \u001b[0;32melse\u001b[0m\u001b[0;34m:\u001b[0m\u001b[0;34m\u001b[0m\u001b[0;34m\u001b[0m\u001b[0m\n\u001b[0;32m--> 234\u001b[0;31m       \u001b[0mans\u001b[0m \u001b[0;34m=\u001b[0m \u001b[0mcall\u001b[0m\u001b[0;34m(\u001b[0m\u001b[0mfun\u001b[0m\u001b[0;34m,\u001b[0m \u001b[0;34m*\u001b[0m\u001b[0margs\u001b[0m\u001b[0;34m)\u001b[0m\u001b[0;34m\u001b[0m\u001b[0;34m\u001b[0m\u001b[0m\n\u001b[0m\u001b[1;32m    235\u001b[0m       \u001b[0mcache\u001b[0m\u001b[0;34m[\u001b[0m\u001b[0mkey\u001b[0m\u001b[0;34m]\u001b[0m \u001b[0;34m=\u001b[0m \u001b[0;34m(\u001b[0m\u001b[0mans\u001b[0m\u001b[0;34m,\u001b[0m \u001b[0mfun\u001b[0m\u001b[0;34m.\u001b[0m\u001b[0mstores\u001b[0m\u001b[0;34m)\u001b[0m\u001b[0;34m\u001b[0m\u001b[0;34m\u001b[0m\u001b[0m\n\u001b[1;32m    236\u001b[0m     \u001b[0;32mreturn\u001b[0m \u001b[0mans\u001b[0m\u001b[0;34m\u001b[0m\u001b[0;34m\u001b[0m\u001b[0m\n",
            "\u001b[0;32m/usr/local/lib/python3.6/dist-packages/jax/interpreters/xla.py\u001b[0m in \u001b[0;36m_xla_callable\u001b[0;34m(fun, device, backend, name, donated_invars, *arg_specs)\u001b[0m\n\u001b[1;32m    646\u001b[0m   out_nodes = jaxpr_subcomp(\n\u001b[1;32m    647\u001b[0m       \u001b[0mc\u001b[0m\u001b[0;34m,\u001b[0m \u001b[0mjaxpr\u001b[0m\u001b[0;34m,\u001b[0m \u001b[0mbackend\u001b[0m\u001b[0;34m,\u001b[0m \u001b[0mAxisEnv\u001b[0m\u001b[0;34m(\u001b[0m\u001b[0mnreps\u001b[0m\u001b[0;34m,\u001b[0m \u001b[0;34m(\u001b[0m\u001b[0;34m)\u001b[0m\u001b[0;34m,\u001b[0m \u001b[0;34m(\u001b[0m\u001b[0;34m)\u001b[0m\u001b[0;34m,\u001b[0m \u001b[0;32mNone\u001b[0m\u001b[0;34m)\u001b[0m\u001b[0;34m,\u001b[0m \u001b[0mxla_consts\u001b[0m\u001b[0;34m,\u001b[0m\u001b[0;34m\u001b[0m\u001b[0;34m\u001b[0m\u001b[0m\n\u001b[0;32m--> 648\u001b[0;31m       extend_name_stack(wrap_name(name, 'jit')), *xla_args)\n\u001b[0m\u001b[1;32m    649\u001b[0m   \u001b[0mout_tuple\u001b[0m \u001b[0;34m=\u001b[0m \u001b[0mxops\u001b[0m\u001b[0;34m.\u001b[0m\u001b[0mTuple\u001b[0m\u001b[0;34m(\u001b[0m\u001b[0mc\u001b[0m\u001b[0;34m,\u001b[0m \u001b[0mout_nodes\u001b[0m\u001b[0;34m)\u001b[0m\u001b[0;34m\u001b[0m\u001b[0;34m\u001b[0m\u001b[0m\n\u001b[1;32m    650\u001b[0m   \u001b[0mbackend\u001b[0m \u001b[0;34m=\u001b[0m \u001b[0mxb\u001b[0m\u001b[0;34m.\u001b[0m\u001b[0mget_backend\u001b[0m\u001b[0;34m(\u001b[0m\u001b[0mbackend\u001b[0m\u001b[0;34m)\u001b[0m\u001b[0;34m\u001b[0m\u001b[0;34m\u001b[0m\u001b[0m\n",
            "\u001b[0;32m/usr/local/lib/python3.6/dist-packages/jax/interpreters/xla.py\u001b[0m in \u001b[0;36mjaxpr_subcomp\u001b[0;34m(c, jaxpr, backend, axis_env, consts, name_stack, *args)\u001b[0m\n\u001b[1;32m    413\u001b[0m       \u001b[0mrule\u001b[0m \u001b[0;34m=\u001b[0m \u001b[0minitial_style_translations\u001b[0m\u001b[0;34m[\u001b[0m\u001b[0meqn\u001b[0m\u001b[0;34m.\u001b[0m\u001b[0mprimitive\u001b[0m\u001b[0;34m]\u001b[0m\u001b[0;34m\u001b[0m\u001b[0;34m\u001b[0m\u001b[0m\n\u001b[1;32m    414\u001b[0m       ans = rule(c, axis_env, extend_name_stack(name_stack, eqn.primitive.name),\n\u001b[0;32m--> 415\u001b[0;31m                  map(aval, eqn.invars), backend, *in_nodes, **new_params)\n\u001b[0m\u001b[1;32m    416\u001b[0m     \u001b[0;32melif\u001b[0m \u001b[0meqn\u001b[0m\u001b[0;34m.\u001b[0m\u001b[0mprimitive\u001b[0m \u001b[0;32min\u001b[0m \u001b[0mparallel_translations\u001b[0m\u001b[0;34m:\u001b[0m\u001b[0;34m\u001b[0m\u001b[0;34m\u001b[0m\u001b[0m\n\u001b[1;32m    417\u001b[0m       \u001b[0mrule\u001b[0m \u001b[0;34m=\u001b[0m \u001b[0mparallel_translations\u001b[0m\u001b[0;34m[\u001b[0m\u001b[0meqn\u001b[0m\u001b[0;34m.\u001b[0m\u001b[0mprimitive\u001b[0m\u001b[0;34m]\u001b[0m\u001b[0;34m\u001b[0m\u001b[0;34m\u001b[0m\u001b[0m\n",
            "\u001b[0;32m/usr/local/lib/python3.6/dist-packages/jax/lax/lax_control_flow.py\u001b[0m in \u001b[0;36m_while_loop_translation_rule\u001b[0;34m(c, axis_env, name_stack, avals, backend, cond_jaxpr, body_jaxpr, cond_nconsts, body_nconsts, *args)\u001b[0m\n\u001b[1;32m    322\u001b[0m   new_z = xla.jaxpr_subcomp(body_c, body_jaxpr.jaxpr, backend, axis_env,\n\u001b[1;32m    323\u001b[0m                             \u001b[0m_map\u001b[0m\u001b[0;34m(\u001b[0m\u001b[0mpartial\u001b[0m\u001b[0;34m(\u001b[0m\u001b[0mxb\u001b[0m\u001b[0;34m.\u001b[0m\u001b[0mconstant\u001b[0m\u001b[0;34m,\u001b[0m \u001b[0mbody_c\u001b[0m\u001b[0;34m)\u001b[0m\u001b[0;34m,\u001b[0m \u001b[0mbody_jaxpr\u001b[0m\u001b[0;34m.\u001b[0m\u001b[0mconsts\u001b[0m\u001b[0;34m)\u001b[0m\u001b[0;34m,\u001b[0m\u001b[0;34m\u001b[0m\u001b[0;34m\u001b[0m\u001b[0m\n\u001b[0;32m--> 324\u001b[0;31m                             extend_name_stack(name_stack, 'body'), *(y + z))\n\u001b[0m\u001b[1;32m    325\u001b[0m   \u001b[0;32mif\u001b[0m \u001b[0mbatched\u001b[0m\u001b[0;34m:\u001b[0m\u001b[0;34m\u001b[0m\u001b[0;34m\u001b[0m\u001b[0m\n\u001b[1;32m    326\u001b[0m     body_pred, = xla.jaxpr_subcomp(body_c, cond_jaxpr.jaxpr, backend, axis_env,\n",
            "\u001b[0;32m/usr/local/lib/python3.6/dist-packages/jax/interpreters/xla.py\u001b[0m in \u001b[0;36mjaxpr_subcomp\u001b[0;34m(c, jaxpr, backend, axis_env, consts, name_stack, *args)\u001b[0m\n\u001b[1;32m    421\u001b[0m       \u001b[0mrule\u001b[0m \u001b[0;34m=\u001b[0m \u001b[0mcall_translations\u001b[0m\u001b[0;34m[\u001b[0m\u001b[0meqn\u001b[0m\u001b[0;34m.\u001b[0m\u001b[0mprimitive\u001b[0m\u001b[0;34m]\u001b[0m\u001b[0;34m\u001b[0m\u001b[0;34m\u001b[0m\u001b[0m\n\u001b[1;32m    422\u001b[0m       ans = rule(c, axis_env, in_nodes,\n\u001b[0;32m--> 423\u001b[0;31m                  name_stack, backend=backend, **new_params)\n\u001b[0m\u001b[1;32m    424\u001b[0m     \u001b[0;32melse\u001b[0m\u001b[0;34m:\u001b[0m\u001b[0;34m\u001b[0m\u001b[0;34m\u001b[0m\u001b[0m\n\u001b[1;32m    425\u001b[0m       raise NotImplementedError(\n",
            "\u001b[0;32m/usr/local/lib/python3.6/dist-packages/jax/interpreters/xla.py\u001b[0m in \u001b[0;36m_xla_call_translation_rule\u001b[0;34m(***failed resolving arguments***)\u001b[0m\n\u001b[1;32m    821\u001b[0m   \u001b[0margs\u001b[0m \u001b[0;34m=\u001b[0m \u001b[0;34m[\u001b[0m\u001b[0mxb\u001b[0m\u001b[0;34m.\u001b[0m\u001b[0mparameter\u001b[0m\u001b[0;34m(\u001b[0m\u001b[0msubc\u001b[0m\u001b[0;34m,\u001b[0m \u001b[0mi\u001b[0m\u001b[0;34m,\u001b[0m \u001b[0mc\u001b[0m\u001b[0;34m.\u001b[0m\u001b[0mget_shape\u001b[0m\u001b[0;34m(\u001b[0m\u001b[0mn\u001b[0m\u001b[0;34m)\u001b[0m\u001b[0;34m)\u001b[0m \u001b[0;32mfor\u001b[0m \u001b[0mi\u001b[0m\u001b[0;34m,\u001b[0m \u001b[0mn\u001b[0m \u001b[0;32min\u001b[0m \u001b[0menumerate\u001b[0m\u001b[0;34m(\u001b[0m\u001b[0min_nodes\u001b[0m\u001b[0;34m)\u001b[0m\u001b[0;34m]\u001b[0m\u001b[0;34m\u001b[0m\u001b[0;34m\u001b[0m\u001b[0m\n\u001b[1;32m    822\u001b[0m   out_nodes = jaxpr_subcomp(subc, call_jaxpr, backend, axis_env, (),\n\u001b[0;32m--> 823\u001b[0;31m                             extend_name_stack(name_stack, wrap_name(name, 'jit')), *args)\n\u001b[0m\u001b[1;32m    824\u001b[0m   \u001b[0msubc\u001b[0m \u001b[0;34m=\u001b[0m \u001b[0msubc\u001b[0m\u001b[0;34m.\u001b[0m\u001b[0mbuild\u001b[0m\u001b[0;34m(\u001b[0m\u001b[0mxops\u001b[0m\u001b[0;34m.\u001b[0m\u001b[0mTuple\u001b[0m\u001b[0;34m(\u001b[0m\u001b[0msubc\u001b[0m\u001b[0;34m,\u001b[0m \u001b[0mout_nodes\u001b[0m\u001b[0;34m)\u001b[0m\u001b[0;34m)\u001b[0m\u001b[0;34m\u001b[0m\u001b[0;34m\u001b[0m\u001b[0m\n\u001b[1;32m    825\u001b[0m   \u001b[0;32mreturn\u001b[0m \u001b[0mxops\u001b[0m\u001b[0;34m.\u001b[0m\u001b[0mCall\u001b[0m\u001b[0;34m(\u001b[0m\u001b[0mc\u001b[0m\u001b[0;34m,\u001b[0m \u001b[0msubc\u001b[0m\u001b[0;34m,\u001b[0m \u001b[0mlist\u001b[0m\u001b[0;34m(\u001b[0m\u001b[0min_nodes\u001b[0m\u001b[0;34m)\u001b[0m\u001b[0;34m)\u001b[0m\u001b[0;34m\u001b[0m\u001b[0;34m\u001b[0m\u001b[0m\n",
            "\u001b[0;32m/usr/local/lib/python3.6/dist-packages/jax/interpreters/xla.py\u001b[0m in \u001b[0;36mjaxpr_subcomp\u001b[0;34m(c, jaxpr, backend, axis_env, consts, name_stack, *args)\u001b[0m\n\u001b[1;32m    421\u001b[0m       \u001b[0mrule\u001b[0m \u001b[0;34m=\u001b[0m \u001b[0mcall_translations\u001b[0m\u001b[0;34m[\u001b[0m\u001b[0meqn\u001b[0m\u001b[0;34m.\u001b[0m\u001b[0mprimitive\u001b[0m\u001b[0;34m]\u001b[0m\u001b[0;34m\u001b[0m\u001b[0;34m\u001b[0m\u001b[0m\n\u001b[1;32m    422\u001b[0m       ans = rule(c, axis_env, in_nodes,\n\u001b[0;32m--> 423\u001b[0;31m                  name_stack, backend=backend, **new_params)\n\u001b[0m\u001b[1;32m    424\u001b[0m     \u001b[0;32melse\u001b[0m\u001b[0;34m:\u001b[0m\u001b[0;34m\u001b[0m\u001b[0;34m\u001b[0m\u001b[0m\n\u001b[1;32m    425\u001b[0m       raise NotImplementedError(\n",
            "\u001b[0;32m/usr/local/lib/python3.6/dist-packages/jax/interpreters/xla.py\u001b[0m in \u001b[0;36m_xla_call_translation_rule\u001b[0;34m(***failed resolving arguments***)\u001b[0m\n\u001b[1;32m    821\u001b[0m   \u001b[0margs\u001b[0m \u001b[0;34m=\u001b[0m \u001b[0;34m[\u001b[0m\u001b[0mxb\u001b[0m\u001b[0;34m.\u001b[0m\u001b[0mparameter\u001b[0m\u001b[0;34m(\u001b[0m\u001b[0msubc\u001b[0m\u001b[0;34m,\u001b[0m \u001b[0mi\u001b[0m\u001b[0;34m,\u001b[0m \u001b[0mc\u001b[0m\u001b[0;34m.\u001b[0m\u001b[0mget_shape\u001b[0m\u001b[0;34m(\u001b[0m\u001b[0mn\u001b[0m\u001b[0;34m)\u001b[0m\u001b[0;34m)\u001b[0m \u001b[0;32mfor\u001b[0m \u001b[0mi\u001b[0m\u001b[0;34m,\u001b[0m \u001b[0mn\u001b[0m \u001b[0;32min\u001b[0m \u001b[0menumerate\u001b[0m\u001b[0;34m(\u001b[0m\u001b[0min_nodes\u001b[0m\u001b[0;34m)\u001b[0m\u001b[0;34m]\u001b[0m\u001b[0;34m\u001b[0m\u001b[0;34m\u001b[0m\u001b[0m\n\u001b[1;32m    822\u001b[0m   out_nodes = jaxpr_subcomp(subc, call_jaxpr, backend, axis_env, (),\n\u001b[0;32m--> 823\u001b[0;31m                             extend_name_stack(name_stack, wrap_name(name, 'jit')), *args)\n\u001b[0m\u001b[1;32m    824\u001b[0m   \u001b[0msubc\u001b[0m \u001b[0;34m=\u001b[0m \u001b[0msubc\u001b[0m\u001b[0;34m.\u001b[0m\u001b[0mbuild\u001b[0m\u001b[0;34m(\u001b[0m\u001b[0mxops\u001b[0m\u001b[0;34m.\u001b[0m\u001b[0mTuple\u001b[0m\u001b[0;34m(\u001b[0m\u001b[0msubc\u001b[0m\u001b[0;34m,\u001b[0m \u001b[0mout_nodes\u001b[0m\u001b[0;34m)\u001b[0m\u001b[0;34m)\u001b[0m\u001b[0;34m\u001b[0m\u001b[0;34m\u001b[0m\u001b[0m\n\u001b[1;32m    825\u001b[0m   \u001b[0;32mreturn\u001b[0m \u001b[0mxops\u001b[0m\u001b[0;34m.\u001b[0m\u001b[0mCall\u001b[0m\u001b[0;34m(\u001b[0m\u001b[0mc\u001b[0m\u001b[0;34m,\u001b[0m \u001b[0msubc\u001b[0m\u001b[0;34m,\u001b[0m \u001b[0mlist\u001b[0m\u001b[0;34m(\u001b[0m\u001b[0min_nodes\u001b[0m\u001b[0;34m)\u001b[0m\u001b[0;34m)\u001b[0m\u001b[0;34m\u001b[0m\u001b[0;34m\u001b[0m\u001b[0m\n",
            "\u001b[0;32m/usr/local/lib/python3.6/dist-packages/jax/interpreters/xla.py\u001b[0m in \u001b[0;36mjaxpr_subcomp\u001b[0;34m(c, jaxpr, backend, axis_env, consts, name_stack, *args)\u001b[0m\n\u001b[1;32m    421\u001b[0m       \u001b[0mrule\u001b[0m \u001b[0;34m=\u001b[0m \u001b[0mcall_translations\u001b[0m\u001b[0;34m[\u001b[0m\u001b[0meqn\u001b[0m\u001b[0;34m.\u001b[0m\u001b[0mprimitive\u001b[0m\u001b[0;34m]\u001b[0m\u001b[0;34m\u001b[0m\u001b[0;34m\u001b[0m\u001b[0m\n\u001b[1;32m    422\u001b[0m       ans = rule(c, axis_env, in_nodes,\n\u001b[0;32m--> 423\u001b[0;31m                  name_stack, backend=backend, **new_params)\n\u001b[0m\u001b[1;32m    424\u001b[0m     \u001b[0;32melse\u001b[0m\u001b[0;34m:\u001b[0m\u001b[0;34m\u001b[0m\u001b[0;34m\u001b[0m\u001b[0m\n\u001b[1;32m    425\u001b[0m       raise NotImplementedError(\n",
            "\u001b[0;32m/usr/local/lib/python3.6/dist-packages/jax/interpreters/xla.py\u001b[0m in \u001b[0;36m_xla_call_translation_rule\u001b[0;34m(***failed resolving arguments***)\u001b[0m\n\u001b[1;32m    821\u001b[0m   \u001b[0margs\u001b[0m \u001b[0;34m=\u001b[0m \u001b[0;34m[\u001b[0m\u001b[0mxb\u001b[0m\u001b[0;34m.\u001b[0m\u001b[0mparameter\u001b[0m\u001b[0;34m(\u001b[0m\u001b[0msubc\u001b[0m\u001b[0;34m,\u001b[0m \u001b[0mi\u001b[0m\u001b[0;34m,\u001b[0m \u001b[0mc\u001b[0m\u001b[0;34m.\u001b[0m\u001b[0mget_shape\u001b[0m\u001b[0;34m(\u001b[0m\u001b[0mn\u001b[0m\u001b[0;34m)\u001b[0m\u001b[0;34m)\u001b[0m \u001b[0;32mfor\u001b[0m \u001b[0mi\u001b[0m\u001b[0;34m,\u001b[0m \u001b[0mn\u001b[0m \u001b[0;32min\u001b[0m \u001b[0menumerate\u001b[0m\u001b[0;34m(\u001b[0m\u001b[0min_nodes\u001b[0m\u001b[0;34m)\u001b[0m\u001b[0;34m]\u001b[0m\u001b[0;34m\u001b[0m\u001b[0;34m\u001b[0m\u001b[0m\n\u001b[1;32m    822\u001b[0m   out_nodes = jaxpr_subcomp(subc, call_jaxpr, backend, axis_env, (),\n\u001b[0;32m--> 823\u001b[0;31m                             extend_name_stack(name_stack, wrap_name(name, 'jit')), *args)\n\u001b[0m\u001b[1;32m    824\u001b[0m   \u001b[0msubc\u001b[0m \u001b[0;34m=\u001b[0m \u001b[0msubc\u001b[0m\u001b[0;34m.\u001b[0m\u001b[0mbuild\u001b[0m\u001b[0;34m(\u001b[0m\u001b[0mxops\u001b[0m\u001b[0;34m.\u001b[0m\u001b[0mTuple\u001b[0m\u001b[0;34m(\u001b[0m\u001b[0msubc\u001b[0m\u001b[0;34m,\u001b[0m \u001b[0mout_nodes\u001b[0m\u001b[0;34m)\u001b[0m\u001b[0;34m)\u001b[0m\u001b[0;34m\u001b[0m\u001b[0;34m\u001b[0m\u001b[0m\n\u001b[1;32m    825\u001b[0m   \u001b[0;32mreturn\u001b[0m \u001b[0mxops\u001b[0m\u001b[0;34m.\u001b[0m\u001b[0mCall\u001b[0m\u001b[0;34m(\u001b[0m\u001b[0mc\u001b[0m\u001b[0;34m,\u001b[0m \u001b[0msubc\u001b[0m\u001b[0;34m,\u001b[0m \u001b[0mlist\u001b[0m\u001b[0;34m(\u001b[0m\u001b[0min_nodes\u001b[0m\u001b[0;34m)\u001b[0m\u001b[0;34m)\u001b[0m\u001b[0;34m\u001b[0m\u001b[0;34m\u001b[0m\u001b[0m\n",
            "\u001b[0;32m/usr/local/lib/python3.6/dist-packages/jax/interpreters/xla.py\u001b[0m in \u001b[0;36mjaxpr_subcomp\u001b[0;34m(c, jaxpr, backend, axis_env, consts, name_stack, *args)\u001b[0m\n\u001b[1;32m    421\u001b[0m       \u001b[0mrule\u001b[0m \u001b[0;34m=\u001b[0m \u001b[0mcall_translations\u001b[0m\u001b[0;34m[\u001b[0m\u001b[0meqn\u001b[0m\u001b[0;34m.\u001b[0m\u001b[0mprimitive\u001b[0m\u001b[0;34m]\u001b[0m\u001b[0;34m\u001b[0m\u001b[0;34m\u001b[0m\u001b[0m\n\u001b[1;32m    422\u001b[0m       ans = rule(c, axis_env, in_nodes,\n\u001b[0;32m--> 423\u001b[0;31m                  name_stack, backend=backend, **new_params)\n\u001b[0m\u001b[1;32m    424\u001b[0m     \u001b[0;32melse\u001b[0m\u001b[0;34m:\u001b[0m\u001b[0;34m\u001b[0m\u001b[0;34m\u001b[0m\u001b[0m\n\u001b[1;32m    425\u001b[0m       raise NotImplementedError(\n",
            "\u001b[0;32m/usr/local/lib/python3.6/dist-packages/jax/interpreters/xla.py\u001b[0m in \u001b[0;36m_xla_call_translation_rule\u001b[0;34m(***failed resolving arguments***)\u001b[0m\n\u001b[1;32m    821\u001b[0m   \u001b[0margs\u001b[0m \u001b[0;34m=\u001b[0m \u001b[0;34m[\u001b[0m\u001b[0mxb\u001b[0m\u001b[0;34m.\u001b[0m\u001b[0mparameter\u001b[0m\u001b[0;34m(\u001b[0m\u001b[0msubc\u001b[0m\u001b[0;34m,\u001b[0m \u001b[0mi\u001b[0m\u001b[0;34m,\u001b[0m \u001b[0mc\u001b[0m\u001b[0;34m.\u001b[0m\u001b[0mget_shape\u001b[0m\u001b[0;34m(\u001b[0m\u001b[0mn\u001b[0m\u001b[0;34m)\u001b[0m\u001b[0;34m)\u001b[0m \u001b[0;32mfor\u001b[0m \u001b[0mi\u001b[0m\u001b[0;34m,\u001b[0m \u001b[0mn\u001b[0m \u001b[0;32min\u001b[0m \u001b[0menumerate\u001b[0m\u001b[0;34m(\u001b[0m\u001b[0min_nodes\u001b[0m\u001b[0;34m)\u001b[0m\u001b[0;34m]\u001b[0m\u001b[0;34m\u001b[0m\u001b[0;34m\u001b[0m\u001b[0m\n\u001b[1;32m    822\u001b[0m   out_nodes = jaxpr_subcomp(subc, call_jaxpr, backend, axis_env, (),\n\u001b[0;32m--> 823\u001b[0;31m                             extend_name_stack(name_stack, wrap_name(name, 'jit')), *args)\n\u001b[0m\u001b[1;32m    824\u001b[0m   \u001b[0msubc\u001b[0m \u001b[0;34m=\u001b[0m \u001b[0msubc\u001b[0m\u001b[0;34m.\u001b[0m\u001b[0mbuild\u001b[0m\u001b[0;34m(\u001b[0m\u001b[0mxops\u001b[0m\u001b[0;34m.\u001b[0m\u001b[0mTuple\u001b[0m\u001b[0;34m(\u001b[0m\u001b[0msubc\u001b[0m\u001b[0;34m,\u001b[0m \u001b[0mout_nodes\u001b[0m\u001b[0;34m)\u001b[0m\u001b[0;34m)\u001b[0m\u001b[0;34m\u001b[0m\u001b[0;34m\u001b[0m\u001b[0m\n\u001b[1;32m    825\u001b[0m   \u001b[0;32mreturn\u001b[0m \u001b[0mxops\u001b[0m\u001b[0;34m.\u001b[0m\u001b[0mCall\u001b[0m\u001b[0;34m(\u001b[0m\u001b[0mc\u001b[0m\u001b[0;34m,\u001b[0m \u001b[0msubc\u001b[0m\u001b[0;34m,\u001b[0m \u001b[0mlist\u001b[0m\u001b[0;34m(\u001b[0m\u001b[0min_nodes\u001b[0m\u001b[0;34m)\u001b[0m\u001b[0;34m)\u001b[0m\u001b[0;34m\u001b[0m\u001b[0;34m\u001b[0m\u001b[0m\n",
            "\u001b[0;32m/usr/local/lib/python3.6/dist-packages/jax/interpreters/xla.py\u001b[0m in \u001b[0;36mjaxpr_subcomp\u001b[0;34m(c, jaxpr, backend, axis_env, consts, name_stack, *args)\u001b[0m\n\u001b[1;32m    371\u001b[0m \u001b[0;32mdef\u001b[0m \u001b[0mjaxpr_subcomp\u001b[0m\u001b[0;34m(\u001b[0m\u001b[0mc\u001b[0m\u001b[0;34m,\u001b[0m \u001b[0mjaxpr\u001b[0m\u001b[0;34m,\u001b[0m \u001b[0mbackend\u001b[0m\u001b[0;34m,\u001b[0m \u001b[0maxis_env\u001b[0m\u001b[0;34m,\u001b[0m \u001b[0mconsts\u001b[0m\u001b[0;34m,\u001b[0m \u001b[0mname_stack\u001b[0m\u001b[0;34m,\u001b[0m \u001b[0;34m*\u001b[0m\u001b[0margs\u001b[0m\u001b[0;34m)\u001b[0m\u001b[0;34m:\u001b[0m\u001b[0;34m\u001b[0m\u001b[0;34m\u001b[0m\u001b[0m\n\u001b[1;32m    372\u001b[0m   \u001b[0;32mif\u001b[0m \u001b[0mbackend\u001b[0m \u001b[0;32mnot\u001b[0m \u001b[0;32min\u001b[0m \u001b[0;34m(\u001b[0m\u001b[0;34m'cpu'\u001b[0m\u001b[0;34m,\u001b[0m \u001b[0;34m'gpu'\u001b[0m\u001b[0;34m,\u001b[0m \u001b[0;34m'tpu'\u001b[0m\u001b[0;34m)\u001b[0m\u001b[0;34m:\u001b[0m\u001b[0;34m\u001b[0m\u001b[0;34m\u001b[0m\u001b[0m\n\u001b[0;32m--> 373\u001b[0;31m     \u001b[0mplatform\u001b[0m \u001b[0;34m=\u001b[0m \u001b[0mxb\u001b[0m\u001b[0;34m.\u001b[0m\u001b[0mget_backend\u001b[0m\u001b[0;34m(\u001b[0m\u001b[0mbackend\u001b[0m\u001b[0;34m)\u001b[0m\u001b[0;34m.\u001b[0m\u001b[0mplatform\u001b[0m  \u001b[0;31m# canonicalize\u001b[0m\u001b[0;34m\u001b[0m\u001b[0;34m\u001b[0m\u001b[0m\n\u001b[0m\u001b[1;32m    374\u001b[0m   \u001b[0;32melse\u001b[0m\u001b[0;34m:\u001b[0m\u001b[0;34m\u001b[0m\u001b[0;34m\u001b[0m\u001b[0m\n\u001b[1;32m    375\u001b[0m     \u001b[0mplatform\u001b[0m \u001b[0;34m=\u001b[0m \u001b[0mbackend\u001b[0m\u001b[0;34m\u001b[0m\u001b[0;34m\u001b[0m\u001b[0m\n",
            "\u001b[0;31mKeyboardInterrupt\u001b[0m: "
          ]
        }
      ]
    },
    {
      "cell_type": "code",
      "metadata": {
        "id": "jbPpjy8VCPtw"
      },
      "source": [
        ""
      ],
      "execution_count": null,
      "outputs": []
    }
  ]
}