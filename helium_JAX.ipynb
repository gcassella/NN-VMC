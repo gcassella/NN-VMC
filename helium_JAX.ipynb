{
  "nbformat": 4,
  "nbformat_minor": 0,
  "metadata": {
    "kernelspec": {
      "display_name": "Python 3",
      "language": "python",
      "name": "python3"
    },
    "language_info": {
      "codemirror_mode": {
        "name": "ipython",
        "version": 3
      },
      "file_extension": ".py",
      "mimetype": "text/x-python",
      "name": "python",
      "nbconvert_exporter": "python",
      "pygments_lexer": "ipython3",
      "version": "3.8.3"
    },
    "colab": {
      "name": "Copy of Copy of helium_JAX.ipynb",
      "provenance": [],
      "collapsed_sections": [],
      "include_colab_link": true
    },
    "accelerator": "TPU"
  },
  "cells": [
    {
      "cell_type": "markdown",
      "metadata": {
        "id": "view-in-github",
        "colab_type": "text"
      },
      "source": [
        "<a href=\"https://colab.research.google.com/github/gcassella/NN-VMC/blob/main/helium_JAX.ipynb\" target=\"_parent\"><img src=\"https://colab.research.google.com/assets/colab-badge.svg\" alt=\"Open In Colab\"/></a>"
      ]
    },
    {
      "cell_type": "code",
      "metadata": {
        "id": "Fm9-6jxUCxO8",
        "outputId": "153e5e8b-4c00-4735-9b4f-0790886e5c55",
        "colab": {
          "base_uri": "https://localhost:8080/",
          "height": 33
        }
      },
      "source": [
        "import jax.numpy as np\n",
        "import jax\n",
        "from jax import random, grad, jacfwd, jacrev, vmap, jit, pmap\n",
        "from jax.ops import index_add, index_update\n",
        "from functools import partial\n",
        "\n",
        "# Make sure the Colab Runtime is set to Accelerator: TPU.\n",
        "import requests\n",
        "import os\n",
        "if 'TPU_DRIVER_MODE' not in globals():\n",
        "  url = 'http://' + os.environ['COLAB_TPU_ADDR'].split(':')[0] + ':8475/requestversion/tpu_driver0.1-dev20191206'\n",
        "  resp = requests.post(url)\n",
        "  TPU_DRIVER_MODE = 1\n",
        "\n",
        "# The following is required to use TPU Driver as JAX's backend.\n",
        "from jax.config import config\n",
        "config.FLAGS.jax_xla_backend = \"tpu_driver\"\n",
        "config.FLAGS.jax_backend_target = \"grpc://\" + os.environ['COLAB_TPU_ADDR']\n",
        "print(config.FLAGS.jax_backend_target)\n",
        "\n",
        "key = random.PRNGKey(0)\n",
        "key, subkey = random.split(key)"
      ],
      "execution_count": 1,
      "outputs": [
        {
          "output_type": "stream",
          "text": [
            "grpc://10.93.56.226:8470\n"
          ],
          "name": "stdout"
        }
      ]
    },
    {
      "cell_type": "markdown",
      "metadata": {
        "id": "Hz1WbP_xCxPJ"
      },
      "source": [
        "# Stochastic reconfiguration w/ Hylleraas wavefunction"
      ]
    },
    {
      "cell_type": "code",
      "metadata": {
        "id": "BMcJkpscE8hT"
      },
      "source": [
        "class Wavefunction():\n",
        "  def __init__(self, f, p0):\n",
        "    self.f = f\n",
        "    self.p = p0\n",
        "\n",
        "    self.hess = jacfwd(jacrev(lambda x: self.f(x, self.p), 0), 0)\n",
        "    self.p_grad = grad(self.f, 1)\n",
        "    self.p_gradlog = grad(lambda x, p: np.log(self.f(x, p)), 1)\n",
        "\n",
        "    # Cache evaluations to speed up?\n",
        "    self.p_gradlog_eval = jit(lambda x: self.p_gradlog(x, self.p))\n",
        "    self.p_grad_eval = jit(lambda x: self.p_grad(x, self.p))\n",
        "    self.lapl_eval = jit(lambda x: np.trace(self.hess(x).reshape(x.shape[0]*x.shape[1], x.shape[0]*x.shape[1])))\n",
        "    self.eval = jit(lambda x: self.f(x, self.p))\n",
        "    self.pdf_eval = jit(lambda x: np.power(np.abs(self.eval(x)), 2))\n"
      ],
      "execution_count": 2,
      "outputs": []
    },
    {
      "cell_type": "code",
      "metadata": {
        "id": "P7vBXf1kCxPV"
      },
      "source": [
        "@jit\n",
        "def hirschfelder_f(x, p):\n",
        "    r = np.linalg.norm(x, axis=1)\n",
        "    r1 = r[0]\n",
        "    r2 = r[1]\n",
        "\n",
        "    s = r1 + r2\n",
        "    t = r1 - r2\n",
        "    u = np.linalg.norm(np.subtract(x[1], x[0]))\n",
        "\n",
        "    return np.exp(-2*s)*(1 + 0.5*u*np.exp(-p[0]*u))*(1 + p[1]*s*u + p[2]*np.power(t, 2) + p[3]*np.power(u, 2))\n",
        "\n",
        "hirschfelder = Wavefunction(hirschfelder_f, np.array([1.0, 0.5, 0.5, -0.1]))\n",
        "\n",
        "@jit\n",
        "def simple_f(x, p):\n",
        "    r = np.linalg.norm(x, axis=1)\n",
        "    r1 = r[0]\n",
        "    r2 = r[1]\n",
        "\n",
        "    return np.exp(-p[0]*(r1 + r2))\n",
        "\n",
        "simple = Wavefunction(simple_f, np.array([2.0]))"
      ],
      "execution_count": 3,
      "outputs": []
    },
    {
      "cell_type": "code",
      "metadata": {
        "id": "Sf66BnnICxPg"
      },
      "source": [
        "@partial(jit, static_argnums=(1,))\n",
        "def config_step(key, wf, config, config_prob, config_idx, step_size):\n",
        "    key, subkey = random.split(key)\n",
        "    move_proposal = random.normal(key, shape=(config.shape[1],))*step_size\n",
        "    proposal = index_add(config, config_idx%config.shape[0], move_proposal)\n",
        "    proposal_prob = wf.pdf_eval(proposal)\n",
        "\n",
        "    uniform = random.uniform(subkey)\n",
        "    accept = uniform < (proposal_prob / config_prob)\n",
        "\n",
        "    new_config = np.where(accept, proposal, config)\n",
        "    config_prob = np.where(accept, proposal_prob, config_prob)\n",
        "    return new_config, config_prob, config_idx+1\n",
        "\n",
        "@partial(jit, static_argnums=(1, 2, 3, 4))\n",
        "def get_configs(key, wf, n_iter, n_equi, step_size, initial_config):\n",
        "    \"\"\"\n",
        "    Carries out Metropolis-Hastings sampling according to the distribution |`wf`|**2.0.\n",
        "    \n",
        "    Performs `n_equi` equilibriation steps and `n_iter` sampling steps.\n",
        "    \"\"\"\n",
        "    \n",
        "    def mh_update(i, state):\n",
        "      key, config, prob, idx = state\n",
        "      _, key = random.split(key)\n",
        "      new_config, new_prob, new_idx = config_step(\n",
        "          key,\n",
        "          wf,\n",
        "          config,\n",
        "          prob,\n",
        "          idx,\n",
        "          step_size\n",
        "      )\n",
        "      return (key, new_config, new_prob, new_idx)\n",
        "\n",
        "    def mh_update_and_store(i, state):\n",
        "      key, config, prob, idx, configs = state\n",
        "      _, key = random.split(key)\n",
        "      new_config, new_prob, new_idx = config_step(\n",
        "          key,\n",
        "          wf,\n",
        "          config,\n",
        "          prob,\n",
        "          idx,\n",
        "          step_size\n",
        "      )\n",
        "      new_configs = index_update(configs, idx, new_config)\n",
        "      return (key, new_config, new_prob, new_idx, new_configs)\n",
        "\n",
        "    prob = wf.pdf_eval(initial_config)\n",
        "    key, config, prob, idx = jax.lax.fori_loop(0, n_equi, mh_update, (key, initial_config, prob, 0))\n",
        "    init_configs = np.zeros((n_iter, *initial_config.shape))\n",
        "    key, config, prob, idx, configs = jax.lax.fori_loop(0, n_iter, mh_update_and_store, (key, config, prob, 0, init_configs))\n",
        "\n",
        "    return configs"
      ],
      "execution_count": 4,
      "outputs": []
    },
    {
      "cell_type": "code",
      "metadata": {
        "id": "uaWNad0_CxPr"
      },
      "source": [
        "@partial(jit, static_argnums=(1,))\n",
        "def itime_hamiltonian(config, wf, tau=0.01):\n",
        "    n_electron = config.shape[0]\n",
        "    curr_wf = wf.eval(config)\n",
        "    acc = 0\n",
        "    # Calculate kinetic energy\n",
        "    acc += -0.5*(1/curr_wf)*wf.lapl_eval(config)\n",
        "    # Calculate electron-electron energy\n",
        "    for i in range(n_electron):\n",
        "        for j in range(n_electron):\n",
        "            if i < j:\n",
        "                acc += 1 / np.linalg.norm(np.subtract(config[i], config[j]))\n",
        "\n",
        "    # Calculate electron-nucleus energy, assume z=ne FOR NOW\n",
        "    for i in range(n_electron):\n",
        "        acc -= n_electron / np.linalg.norm(config[i])\n",
        "    # Forget about nucleus - nucleus energy FOR NOW\n",
        "\n",
        "    return 1-tau*acc\n",
        "\n",
        "@partial(jit, static_argnums=(1,))\n",
        "def sr_op(config, wf):\n",
        "    gradlog = np.concatenate((np.array([1]), np.array(wf.p_gradlog_eval(config))))\n",
        "    ih = itime_hamiltonian(config, wf)\n",
        "    \n",
        "    return np.multiply(gradlog, ih)\n",
        "\n",
        "@partial(jit, static_argnums=(1,))\n",
        "def overlap_matrix(config, wf):\n",
        "    \"\"\"\n",
        "    Find the overlap matrix on the space of the parametric derivatives of `wf`\n",
        "    \"\"\"\n",
        "    \n",
        "    gradlog = np.concatenate((np.array([1]), np.array(wf.p_gradlog_eval(config))))\n",
        "    overlap_ij = vmap(lambda idx: gradlog[idx[0]]*gradlog[idx[1]])\n",
        "    \n",
        "    grid_pairs = np.array([(i,j) for i in range(gradlog.shape[0]) for j in range(gradlog.shape[0])])\n",
        "    \n",
        "    return overlap_ij(grid_pairs).reshape(gradlog.shape[0], gradlog.shape[0])\n",
        "\n",
        "@partial(jit, static_argnums=(1,))\n",
        "def local_energy(config, wf):\n",
        "    \"\"\"\n",
        "    Local energy operator. Uses JAX autograd to obtain laplacian for KE.\n",
        "    \"\"\"\n",
        "\n",
        "    n_electron = config.shape[0]\n",
        "    acc = 0\n",
        "    # Calculate kinetic energy\n",
        "    acc += -0.5*(1/wf.eval(config))*wf.lapl_eval(config)\n",
        "    # Calculate electron-electron energy\n",
        "    for i in range(n_electron):\n",
        "        for j in range(n_electron):\n",
        "            if i < j:\n",
        "                acc += 1 / np.linalg.norm(np.subtract(config[i], config[j]))\n",
        "\n",
        "    # Calculate electron-nucleus energy, assume z=ne FOR NOW\n",
        "    for i in range(n_electron):\n",
        "        acc -= n_electron / np.linalg.norm(config[i])\n",
        "\n",
        "    return acc"
      ],
      "execution_count": 5,
      "outputs": []
    },
    {
      "cell_type": "code",
      "metadata": {
        "id": "RGuqs5ZbCxPz"
      },
      "source": [
        "@partial(jit, static_argnums=(1,2,))\n",
        "def monte_carlo(configs, op, wf):\n",
        "    \"\"\"\n",
        "    Performs a Monte Carlo integration using the `configs` walker positions\n",
        "    of the expectation value of `op` for the wavefunction `wf`.\n",
        "    \n",
        "    Returns the expectation value, variance and a list of the sampled values {O_i}\n",
        "    \"\"\"\n",
        "\n",
        "    samp_rate = 100\n",
        "    walker_values = vmap(lambda config: op(config, wf))(configs)\n",
        "    op_output_shape = walker_values[0].shape\n",
        "    num_blocks = (walker_values.shape[0]//samp_rate)\n",
        "    blocks = walker_values[:samp_rate*(num_blocks)].reshape((num_blocks, samp_rate, *op_output_shape))\n",
        "    k = blocks.shape[0]\n",
        "    block_means = np.mean(blocks, axis=1)\n",
        "    op_expec = np.mean(block_means, axis=0)\n",
        "    op_var = 1/(k*(k-1))*np.sum(np.power(block_means - op_expec, 2), axis=0)\n",
        "    return op_expec, op_var"
      ],
      "execution_count": 6,
      "outputs": []
    },
    {
      "cell_type": "code",
      "metadata": {
        "id": "tvTT8u-Zj_UO"
      },
      "source": [
        "run_mcmc = vmap(get_configs, in_axes=(0, None, None, None, None, 0), out_axes=0)\n",
        "run_int = vmap(monte_carlo, in_axes=(0, None, None), out_axes=0)\n",
        "\n",
        "def reduce_mc_outs(outs):\n",
        "  mean = np.mean(outs[0], axis=0)\n",
        "  variance = np.mean(outs[1] + np.power(outs[0] - mean, 2), axis=0)\n",
        "  return mean, variance"
      ],
      "execution_count": 7,
      "outputs": []
    },
    {
      "cell_type": "code",
      "metadata": {
        "id": "4dxuEJZH6rQM"
      },
      "source": [
        "n_equi = 1000\n",
        "n_iter = 10000\n",
        "n_chains = 500\n",
        "xis = random.uniform(key, (n_chains, 2, 3))\n",
        "keys = random.split(key, n_chains)\n",
        "configs = run_mcmc(keys, simple, n_iter, n_equi, 0.5, xis)\n",
        "E_E, E_V = reduce_mc_outs(run_int(configs, local_energy, simple))\n",
        "overlap_E, overlap_V = reduce_mc_outs(run_int(configs, overlap_matrix, simple))\n",
        "#sr_E, sr_V = reduce_mc_outs(run_int(configs, sr_op, simple))"
      ],
      "execution_count": 8,
      "outputs": []
    },
    {
      "cell_type": "code",
      "metadata": {
        "id": "5fRgxAz1DYKN",
        "outputId": "70f3fe1c-118e-4f13-a9e6-04e0354ff169",
        "colab": {
          "base_uri": "https://localhost:8080/",
          "height": 33
        }
      },
      "source": [
        "E_E"
      ],
      "execution_count": 9,
      "outputs": [
        {
          "output_type": "execute_result",
          "data": {
            "text/plain": [
              "DeviceArray(-2.7496672, dtype=float32)"
            ]
          },
          "metadata": {
            "tags": []
          },
          "execution_count": 9
        }
      ]
    },
    {
      "cell_type": "markdown",
      "metadata": {
        "id": "ry7RIBV1HAMm"
      },
      "source": [
        "## Simple WF"
      ]
    },
    {
      "cell_type": "code",
      "metadata": {
        "id": "6V9vc3hiC-Qy",
        "outputId": "78e7d689-8df0-48e3-95c6-288f1f218cc7",
        "colab": {
          "base_uri": "https://localhost:8080/",
          "height": 697
        }
      },
      "source": [
        "key = random.PRNGKey(0)\n",
        "n_equi = 10000\n",
        "n_iter = 100000\n",
        "n_chains = 500\n",
        "xis = random.uniform(key, (n_chains, 2, 3))\n",
        "keys = random.split(key, n_chains)\n",
        "simple = Wavefunction(simple_f, np.array([2.0]))\n",
        "vals = [np.array(2.0)]\n",
        "\n",
        "for i in range(40):\n",
        "  configs = run_mcmc(keys, simple, n_iter, n_equi, 0.5, xis)\n",
        "  E_E, E_V = reduce_mc_outs(run_int(configs, local_energy, simple))\n",
        "  overlap_E, overlap_V = reduce_mc_outs(run_int(configs, overlap_matrix, simple))\n",
        "  sr_E, sr_V = reduce_mc_outs(run_int(configs, sr_op, simple))\n",
        "\n",
        "  dps = np.linalg.solve(overlap_E, sr_E)\n",
        "  p0 = np.add(simple.p, dps[1:] / dps[0])\n",
        "  # VERY IMPORTANT NOTE: JAX will not re-jit the operators if Wavefunction.p\n",
        "  # is updated internally by, e.g., a getter or setter. I don't know how to solve\n",
        "  # this problem currently aside from simply reinstantiating Wavefunction each\n",
        "  # time Wavefunction.p needs to be changed\n",
        "  #\n",
        "  # Perhaps this isn't such an issue if one sticks with a purely functional style\n",
        "  # and uses classes like immutable structs?\n",
        "  simple = Wavefunction(simple_f, p0)\n",
        "  vals.append(p0)\n",
        "  print(p0)"
      ],
      "execution_count": null,
      "outputs": [
        {
          "output_type": "stream",
          "text": [
            "[1.9276963]\n",
            "[1.8775854]\n",
            "[1.840691]\n",
            "[1.8123969]\n",
            "[1.7903057]\n",
            "[1.7726845]\n",
            "[1.7584919]\n",
            "[1.7468067]\n",
            "[1.7373891]\n",
            "[1.7295324]\n",
            "[1.7229042]\n",
            "[1.7173197]\n",
            "[1.712626]\n",
            "[1.7087704]\n",
            "[1.7055061]\n",
            "[1.702796]\n",
            "[1.700402]\n",
            "[1.6984478]\n",
            "[1.696852]\n",
            "[1.6954029]\n",
            "[1.6942947]\n",
            "[1.6933272]\n",
            "[1.6924536]\n",
            "[1.6917834]\n",
            "[1.6911279]\n",
            "[1.690638]\n",
            "[1.6901832]\n",
            "[1.6898696]\n",
            "[1.6895639]\n",
            "[1.689298]\n",
            "[1.6891017]\n",
            "[1.6889309]\n",
            "[1.6887196]\n",
            "[1.6885333]\n",
            "[1.6884184]\n",
            "[1.6882296]\n",
            "[1.6881112]\n",
            "[1.6879984]\n",
            "[1.6878452]\n",
            "[1.6877065]\n"
          ],
          "name": "stdout"
        }
      ]
    },
    {
      "cell_type": "code",
      "metadata": {
        "id": "sTMPooDtDb12",
        "outputId": "b9f667c9-1d5c-4dd1-bfbf-b6c59bed393d",
        "colab": {
          "base_uri": "https://localhost:8080/",
          "height": 54
        }
      },
      "source": [
        "configs = run_mcmc(keys, simple, n_iter, n_equi, 0.5, xis)\n",
        "E_E, E_V = reduce_mc_outs(run_int(configs, local_energy, simple))\n",
        "print(\"Ground state energy {} pm {} after 20 iterations with parameter {}\".format(E_E, np.sqrt(E_V), p0))"
      ],
      "execution_count": null,
      "outputs": [
        {
          "output_type": "stream",
          "text": [
            "Ground state energy -2.8464293479919434 pm 0.0006964870844967663 after 20 iterations with parameter [1.6877065]\n"
          ],
          "name": "stdout"
        }
      ]
    },
    {
      "cell_type": "markdown",
      "metadata": {
        "id": "mj6TQsqMYhAv"
      },
      "source": [
        "For reference the true minimum of $\\langle E\\rangle \\simeq -2.85 \\text{a. u.}$ of the simple wf ansatz occurs at $\\alpha$=1.6875"
      ]
    },
    {
      "cell_type": "markdown",
      "metadata": {
        "id": "wdwtL4kuerSF"
      },
      "source": [
        "## Hirschfelder wavefunction"
      ]
    },
    {
      "cell_type": "code",
      "metadata": {
        "id": "3xhnt3LSetLC",
        "outputId": "bfeefb88-6f2c-4133-d103-c21e528bd91e",
        "colab": {
          "base_uri": "https://localhost:8080/",
          "height": 697
        }
      },
      "source": [
        "n_equi = 10000\n",
        "n_iter = 100000\n",
        "n_chains = 100\n",
        "xis = random.uniform(key, (n_chains, 2, 3))\n",
        "keys = random.split(key, n_chains)\n",
        "hirschfelder = Wavefunction(hirschfelder_f, np.array([1.0, 0.5, 0.5, -0.1]))\n",
        "vals = [p0]\n",
        "\n",
        "for i in range(40):\n",
        "  configs = run_mcmc(keys, hirschfelder, n_iter, n_equi, 0.5, xis)\n",
        "  E_E, E_V = reduce_mc_outs(run_int(configs, local_energy, hirschfelder))\n",
        "  overlap_E, overlap_V = reduce_mc_outs(run_int(configs, overlap_matrix, hirschfelder))\n",
        "  sr_E, sr_V = reduce_mc_outs(run_int(configs, sr_op, hirschfelder))\n",
        "\n",
        "  dps = np.linalg.solve(overlap_E, sr_E)\n",
        "  p0 = np.add(hirschfelder.p, dps[1:] / dps[0])\n",
        "  hirschfelder = Wavefunction(hirschfelder_f, p0)\n",
        "  vals.append(p0)\n",
        "  print(p0)"
      ],
      "execution_count": null,
      "outputs": [
        {
          "output_type": "stream",
          "text": [
            "[ 1.4236624   0.5324303   0.44780415 -0.1185777 ]\n",
            "[ 1.8274268   0.52555925  0.38857707 -0.14034285]\n",
            "[ 2.1532216   0.5014799   0.34327382 -0.14871532]\n",
            "[ 2.1948583   0.47658455  0.31286922 -0.14467369]\n",
            "[ 2.0115626   0.4537761   0.29153362 -0.13413884]\n",
            "[ 1.8770361   0.43206456  0.27365276 -0.12360602]\n",
            "[ 1.7592784   0.41211852  0.2586345  -0.11351466]\n",
            "[ 1.6649686   0.39407298  0.24570781 -0.10441782]\n",
            "[ 1.577496    0.37777448  0.23474768 -0.09616143]\n",
            "[ 1.5076677   0.3633409   0.22492754 -0.0890992 ]\n",
            "[ 1.4467105   0.35067847  0.21633679 -0.08313622]\n",
            "[ 1.3945475   0.33940798  0.2087992  -0.0780477 ]\n",
            "[ 1.3490429   0.32962883  0.20208855 -0.07381274]\n",
            "[ 1.3063763   0.3208327   0.19627199 -0.07010238]\n",
            "[ 1.2701937   0.31305918  0.1910933  -0.06695889]\n",
            "[ 1.2391235   0.3063077   0.18647681 -0.06442851]\n",
            "[ 1.2104979   0.30031046  0.18252607 -0.06231608]\n",
            "[ 1.187672    0.29506224  0.17885162 -0.06052488]\n",
            "[ 1.1666455   0.29016247  0.17578799 -0.05881443]\n",
            "[ 1.1456738   0.28589332  0.17293528 -0.0574354 ]\n",
            "[ 1.129263    0.28224057  0.17024308 -0.05635386]\n",
            "[ 1.1131905   0.27873302  0.16814847 -0.05524873]\n",
            "[ 1.0984658   0.27568334  0.1661749  -0.05435653]\n",
            "[ 1.0862108   0.2730122   0.16440171 -0.05358232]\n",
            "[ 1.0750093   0.27056193  0.16283806 -0.05288792]\n",
            "[ 1.0650601   0.26846287  0.16138089 -0.05233345]\n",
            "[ 1.0556324   0.26661938  0.16012001 -0.05189104]\n",
            "[ 1.049433    0.2649742   0.1589145  -0.05145911]\n",
            "[ 1.042331    0.26350895  0.15793398 -0.05111194]\n",
            "[ 1.0345564   0.262147    0.15706775 -0.05081553]\n",
            "[ 1.0291275   0.26089907  0.15629807 -0.05046355]\n",
            "[ 1.0244983   0.2598552   0.15557402 -0.0502286 ]\n",
            "[ 1.019854    0.2589599   0.15485553 -0.05004753]\n",
            "[ 1.0158389   0.25807545  0.1542707  -0.0498124 ]\n",
            "[ 1.0135514   0.25729942  0.1538427  -0.04958712]\n",
            "[ 1.010198    0.2565669   0.1534436  -0.04938283]\n",
            "[ 1.0065552   0.2558841   0.1530831  -0.04922125]\n",
            "[ 1.0040314   0.2554026   0.15273264 -0.04915685]\n",
            "[ 1.0028024   0.25498846  0.15240397 -0.04907146]\n",
            "[ 0.9998273   0.2546163   0.1520364  -0.04904639]\n"
          ],
          "name": "stdout"
        }
      ]
    },
    {
      "cell_type": "code",
      "metadata": {
        "id": "gr6FvtZFe7pu",
        "outputId": "cc805b0b-30b7-4e89-db4e-d3452a02ce91",
        "colab": {
          "base_uri": "https://localhost:8080/",
          "height": 54
        }
      },
      "source": [
        "configs = run_mcmc(keys, hirschfelder, n_iter, n_equi, 0.5, xis)\n",
        "E_E, E_V = reduce_mc_outs(run_int(configs, local_energy, hirschfelder))\n",
        "print(\"Ground state energy {} pm {} after 40 iterations with parameter {}\".format(E_E, np.sqrt(E_V), p0))"
      ],
      "execution_count": null,
      "outputs": [
        {
          "output_type": "stream",
          "text": [
            "Ground state energy -2.901717185974121 pm 0.00027340053929947317 after 40 iterations with parameter [ 0.9998273   0.2546163   0.1520364  -0.04904639]\n"
          ],
          "name": "stdout"
        }
      ]
    },
    {
      "cell_type": "code",
      "metadata": {
        "id": "XKAYSNCrjTfO",
        "outputId": "98be4685-e9ec-4f1d-f1e5-e0bc83ef90b8",
        "colab": {
          "base_uri": "https://localhost:8080/",
          "height": 34
        }
      },
      "source": [
        "print(\"This {}mHa from the true ground state energy\".format(\n",
        "    np.abs(-2.903 - E_E)*1e3\n",
        "))"
      ],
      "execution_count": null,
      "outputs": [
        {
          "output_type": "stream",
          "text": [
            "This 1.2829303741455078mHa from the true ground state energy\n"
          ],
          "name": "stdout"
        }
      ]
    }
  ]
}