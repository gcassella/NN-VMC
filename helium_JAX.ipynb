{
 "cells": [
  {
   "cell_type": "code",
   "execution_count": 1,
   "metadata": {},
   "outputs": [
    {
     "name": "stderr",
     "output_type": "stream",
     "text": [
      "/home/gino/miniconda3/lib/python3.8/site-packages/jax/lib/xla_bridge.py:130: UserWarning: No GPU/TPU found, falling back to CPU.\n",
      "  warnings.warn('No GPU/TPU found, falling back to CPU.')\n"
     ]
    }
   ],
   "source": [
    "import jax.numpy as np\n",
    "from jax import random, grad, jacfwd, jacrev, vmap\n",
    "from jax.ops import index_add\n",
    "\n",
    "key = random.PRNGKey(0)\n",
    "key, subkey = random.split(key)"
   ]
  },
  {
   "cell_type": "code",
   "execution_count": 2,
   "metadata": {},
   "outputs": [],
   "source": [
    "def hirschfelder(x, p):\n",
    "    r = np.linalg.norm(x, axis=1)\n",
    "    r1 = r[0]\n",
    "    r2 = r[1]\n",
    "\n",
    "    s = r1 + r2\n",
    "    t = r1 - r2\n",
    "    u = np.linalg.norm(np.subtract(x[1], x[0]))\n",
    "\n",
    "    return np.exp(-2*s)*(1 + 0.5*u*np.exp(-p[0]*u))*(1 + p[1]*s*u + p[2]*np.power(t, 2) + p[3]*np.power(u, 2))\n",
    "\n",
    "def hess(f): \n",
    "    return jacfwd(jacrev(f, 0), 0)\n",
    "\n",
    "def lapl_evalat(f, x):\n",
    "    \"\"\"\n",
    "    Evaluates (\\nabla^2 f)(x) by taking the trace of the Hessian matrix of f\n",
    "    \"\"\"\n",
    "    H = hess(f)(x).reshape(x.shape[0]*x.shape[1], x.shape[0]*x.shape[1])\n",
    "    return np.trace(H)"
   ]
  },
  {
   "cell_type": "code",
   "execution_count": 144,
   "metadata": {},
   "outputs": [],
   "source": [
    "xi = np.array([[2.0, 1.0, 1.1], [1.0, 1.0, 2.0]])\n",
    "p0 = [1.013, 0.2119, 0.1406, -0.003]\n",
    "n_equi = 100\n",
    "n_iter = 1000\n",
    "step = 0.5\n",
    "\n",
    "def sample_dens(config, wf): \n",
    "    return np.power(np.abs(wf(config, p0)), 2) # unnormalized pi(R)\n",
    "\n",
    "def get_configs(config_init, n_iter, n_equi, step_size, wf):\n",
    "    \"\"\"\n",
    "    Carries out Metropolis-Hastings sampling according to the distribution |`wf`|**2.0.\n",
    "    \n",
    "    Performs `n_equi` equilibriation steps and `n_iter` sampling steps.\n",
    "    \"\"\"\n",
    "    \n",
    "    global key\n",
    "    configs = []\n",
    "    config = config_init\n",
    "\n",
    "    i = 0\n",
    "    accepted = 0\n",
    "    while i < (n_iter + n_equi):\n",
    "        config_idx = i % config_init.shape[0]\n",
    "\n",
    "        key, subkey = random.split(key)\n",
    "        new_config = index_add(config, config_idx, step_size*random.normal(subkey, (3,)))\n",
    "        # Isotropic gaussian -> T / T' = 1 so only need pi(R') / pi(R)\n",
    "        acceptance = np.array([1, sample_dens(new_config, wf) / sample_dens(config, wf)]).min()\n",
    "\n",
    "        key, subkey = random.split(key)\n",
    "        if random.uniform(subkey) < acceptance:\n",
    "            config = new_config\n",
    "            accepted += 1\n",
    "\n",
    "        # Record position\n",
    "        if i > n_equi:\n",
    "            configs.append(config)\n",
    "        i+=1\n",
    "    return np.array(configs)\n",
    "\n",
    "configs = get_configs(xi, n_iter, n_equi, step, hirschfelder)"
   ]
  },
  {
   "cell_type": "code",
   "execution_count": 155,
   "metadata": {},
   "outputs": [],
   "source": [
    "def itime_hamiltonian(config, wf, tau=0.01):\n",
    "    n_electron = config.shape[0]\n",
    "    curr_wf = wf(config, p0)\n",
    "    acc = 0\n",
    "    # Calculate kinetic energy\n",
    "    acc += -0.5*(1/curr_wf)*lapl_evalat(lambda x: wf(x, p0), config)\n",
    "    # Calculate electron-electron energy\n",
    "    for i in range(n_electron):\n",
    "        for j in range(n_electron):\n",
    "            if i < j:\n",
    "                acc += 1 / np.linalg.norm(np.subtract(config[i], config[j]))\n",
    "\n",
    "    # Calculate electron-nucleus energy, assume z=ne FOR NOW\n",
    "    for i in range(n_electron):\n",
    "        acc -= n_electron / np.linalg.norm(config[i])\n",
    "    # Forget about nucleus - nucleus energy FOR NOW\n",
    "\n",
    "    return 1-tau*acc\n",
    "\n",
    "def sr_op(config, wf):\n",
    "    gradlog = np.concatenate((np.array([1]), np.array(grad(lambda x, p: np.log(wf(x, p)), 1)(config, p0))))\n",
    "    ih = itime_hamiltonian(config, wf)\n",
    "    \n",
    "    return np.multiply(gradlog, ih)\n",
    "\n",
    "def overlap_matrix(config, wf):\n",
    "    \"\"\"\n",
    "    Find the overlap matrix on the space of the parametric derivatives of `wf`\n",
    "    \"\"\"\n",
    "    \n",
    "    gradlog = np.concatenate((np.array([1]), np.array(grad(lambda x, p: np.log(wf(x, p)), 1)(config, p0))))\n",
    "    overlap_ij = lambda i, j: gradlog[i]*gradlog[j]\n",
    "    \n",
    "    grid = np.indices((gradlog.shape[0], gradlog.shape[0]))\n",
    "    \n",
    "    return vmap(overlap_ij)(grid[0], grid[1])"
   ]
  },
  {
   "cell_type": "code",
   "execution_count": 156,
   "metadata": {},
   "outputs": [
    {
     "name": "stdout",
     "output_type": "stream",
     "text": [
      "[[ 1.         -0.1741187   1.4552355   0.2558543   1.1524497 ]\n",
      " [-0.1741187   0.03338361 -0.28719205 -0.0499455  -0.23192196]\n",
      " [ 1.4552355  -0.28719205  2.6143005   0.4110514   2.1107445 ]\n",
      " [ 0.2558543  -0.0499455   0.4110514   0.1529913   0.33090666]\n",
      " [ 1.1524497  -0.23192196  2.1107445   0.33090666  1.7651697 ]]\n",
      "[[0.         0.0036663  0.03745607 0.01057168 0.04353414]\n",
      " [0.0036663  0.00118213 0.01061693 0.00233131 0.01133536]\n",
      " [0.03745607 0.01061693 0.10590241 0.0193458  0.10980862]\n",
      " [0.01057168 0.00233131 0.0193458  0.01591917 0.01699207]\n",
      " [0.04353414 0.01133536 0.10980862 0.01699207 0.11294261]]\n"
     ]
    }
   ],
   "source": [
    "# TODO: create wavefunction dataclass that holds current parameterization so i dont have to wrangle passing it around all the time\n",
    "\n",
    "def monte_carlo(op, wf, configs):\n",
    "    \"\"\"\n",
    "    Performs a Monte Carlo integration using the `configs` walker positions\n",
    "    of the expectation value of `op` for the wavefunction `wf`.\n",
    "    \n",
    "    Returns the expectation value, variance and a list of the sampled values {O_i}\n",
    "    \"\"\"\n",
    "\n",
    "    samp_rate = 20\n",
    "    walker_values = vmap(lambda config: op(config, wf))(configs)\n",
    "    blocks = np.array(np.split(\n",
    "        walker_values[:samp_rate*(walker_values.shape[0]//samp_rate)],\n",
    "        samp_rate,\n",
    "        axis=0\n",
    "        )\n",
    "    )\n",
    "    k = blocks.shape[0]\n",
    "    block_means = np.mean(blocks, axis=0)\n",
    "    op_expec = np.mean(block_means, axis=0)\n",
    "    op_var = 1/(k*(k-1))*np.sum(np.power(block_means - op_expec, 2), axis=0)\n",
    "    return op_expec, op_var, walker_values\n",
    "\n",
    "def local_energy(config, wf):\n",
    "    \"\"\"\n",
    "    Local energy operator. Uses JAX autograd to obtain laplacian for KE.\n",
    "    \"\"\"\n",
    "\n",
    "    n_electron = config.shape[0]\n",
    "    acc = 0\n",
    "    # Calculate kinetic energy\n",
    "    acc += -0.5*(1/wf(config, p0))*lapl_evalat(lambda x: wf(x, p0), config)\n",
    "    # Calculate electron-electron energy\n",
    "    for i in range(n_electron):\n",
    "        for j in range(n_electron):\n",
    "            if i < j:\n",
    "                acc += 1 / np.linalg.norm(np.subtract(config[i], config[j]))\n",
    "\n",
    "    # Calculate electron-nucleus energy, assume z=ne FOR NOW\n",
    "    for i in range(n_electron):\n",
    "        acc -= n_electron / np.linalg.norm(config[i])\n",
    "    # Forget about nucleus - nucleus energy FOR NOW\n",
    "\n",
    "    return acc\n",
    "\n",
    "op_expec, op_var, walker_values = monte_carlo(overlap_matrix, hirschfelder, configs)\n",
    "print(op_expec)\n",
    "print(np.sqrt(op_var))"
   ]
  },
  {
   "cell_type": "code",
   "execution_count": 157,
   "metadata": {},
   "outputs": [
    {
     "name": "stdout",
     "output_type": "stream",
     "text": [
      "[[ 1.         -0.1741187   1.4552355   0.2558543   1.1524497 ]\n",
      " [-0.1741187   0.03338361 -0.28719205 -0.0499455  -0.23192196]\n",
      " [ 1.4552355  -0.28719205  2.6143005   0.4110514   2.1107445 ]\n",
      " [ 0.2558543  -0.0499455   0.4110514   0.1529913   0.33090666]\n",
      " [ 1.1524497  -0.23192196  2.1107445   0.33090666  1.7651697 ]]\n",
      "[ 1.0288726  -0.17916317  1.4973911   0.26326704  1.1857547 ]\n"
     ]
    }
   ],
   "source": [
    "overlap_E, overlap_V, _ = monte_carlo(overlap_matrix, hirschfelder, configs)\n",
    "coeff_E, coeff_V, _ = monte_carlo(sr_op, hirschfelder, configs)\n",
    "print(overlap_E)\n",
    "print(coeff_E)"
   ]
  },
  {
   "cell_type": "code",
   "execution_count": 158,
   "metadata": {},
   "outputs": [
    {
     "data": {
      "text/plain": [
       "array([ 1.0270861e+00, -1.5735919e-02,  9.9208474e-04, -2.8693629e-04,\n",
       "       -2.0163895e-03], dtype=float32)"
      ]
     },
     "execution_count": 158,
     "metadata": {},
     "output_type": "execute_result"
    }
   ],
   "source": [
    "from scipy.linalg import solve\n",
    "\n",
    "solve(overlap_E, coeff_E)"
   ]
  },
  {
   "cell_type": "code",
   "execution_count": 159,
   "metadata": {},
   "outputs": [
    {
     "data": {
      "text/plain": [
       "DeviceArray([ 1.0288726 , -0.17916317,  1.4973911 ,  0.26326704,\n",
       "              1.1857547 ], dtype=float32)"
      ]
     },
     "execution_count": 159,
     "metadata": {},
     "output_type": "execute_result"
    }
   ],
   "source": [
    "coeff_E"
   ]
  },
  {
   "cell_type": "code",
   "execution_count": null,
   "metadata": {},
   "outputs": [],
   "source": []
  }
 ],
 "metadata": {
  "kernelspec": {
   "display_name": "Python 3",
   "language": "python",
   "name": "python3"
  },
  "language_info": {
   "codemirror_mode": {
    "name": "ipython",
    "version": 3
   },
   "file_extension": ".py",
   "mimetype": "text/x-python",
   "name": "python",
   "nbconvert_exporter": "python",
   "pygments_lexer": "ipython3",
   "version": "3.8.3"
  }
 },
 "nbformat": 4,
 "nbformat_minor": 4
}
